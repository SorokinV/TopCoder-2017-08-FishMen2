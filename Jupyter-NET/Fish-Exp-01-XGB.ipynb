{
 "cells": [
  {
   "cell_type": "code",
   "execution_count": 1,
   "metadata": {
    "collapsed": true,
    "deletable": true,
    "editable": true
   },
   "outputs": [],
   "source": [
    "#\n",
    "# 2017-08-31\n",
    "#\n",
    "# XGB - решение - дурняк, но работает\n",
    "#\n",
    "#\n",
    "#"
   ]
  },
  {
   "cell_type": "code",
   "execution_count": 2,
   "metadata": {
    "collapsed": true,
    "deletable": true,
    "editable": true
   },
   "outputs": [],
   "source": [
    "import sys, os, math\n",
    "import numpy  as np\n",
    "import pandas as pd\n",
    "import matplotlib.pyplot as plt\n"
   ]
  },
  {
   "cell_type": "code",
   "execution_count": null,
   "metadata": {
    "collapsed": true,
    "deletable": true,
    "editable": true
   },
   "outputs": [],
   "source": []
  },
  {
   "cell_type": "code",
   "execution_count": 3,
   "metadata": {
    "collapsed": false,
    "deletable": true,
    "editable": true
   },
   "outputs": [],
   "source": [
    "def dataClean( df ) :\n",
    "    def cn (cc) : \n",
    "        cc = np.reshape(cc.values,(len(df)))\n",
    "        return([jj for jj,dd in enumerate(cc.tolist()) if dd ])\n",
    "    ##df=df.fillna(0.0)\n",
    "    badly = np.zeros((len(df)),dtype=np.int32)\n",
    "    ##cols  = df.columns.tolist()\n",
    "    ##print(cols)\n",
    "    for ii,nn in enumerate(df.columns.tolist()) :\n",
    "        \n",
    "        if (ii==0) and (nn.startswith('Chloro')) : # Chlorophyl\n",
    "            cc = ((df[[ii]]<0.0) | (df[[ii]]>1.0))\n",
    "            df.iloc[cn(cc),ii] = 0.0\n",
    "            #badly[cn(cc)] += 1\n",
    "        \n",
    "        if (ii==1) and (nn.startswith('Depth')) : \n",
    "            cc = (df[[ii]]> 0.0);      df.iloc[cn(cc),ii] = -df.iloc[cn(cc),ii]\n",
    "            cc = (df[[ii]]< -10000.0); df.iloc[cn(cc),ii] = -10000.0\n",
    "            badly[cn(cc)] += 1\n",
    "        \n",
    "        if (ii==3) and (nn.startswith('Eastward')) :\n",
    "            cc = (df[[ii]]< 0.0);      df.iloc[cn(cc),ii] = 0.0\n",
    "            cc = (df[[ii]]> 5.0);      df.iloc[cn(cc),ii] = 5.0\n",
    "            badly[cn(cc)] += 1\n",
    "        \n",
    "        if (ii==4) and (nn.startswith('Latitude')) :\n",
    "            cc = (df[[ii]]< -90.0);      df.iloc[cn(cc),ii] = -90.0; badly[cn(cc)] += 1\n",
    "            cc = (df[[ii]]>  90.0);      df.iloc[cn(cc),ii] =  90.0; badly[cn(cc)] += 1\n",
    "        \n",
    "        if (ii==5) and (nn.startswith('Longitude')) :\n",
    "            cc = (df[[ii]]< -180.0);      df.iloc[cn(cc),ii] = -180.0; badly[cn(cc)] += 1\n",
    "            cc = (df[[ii]]>  180.0);      df.iloc[cn(cc),ii] =  180.0; badly[cn(cc)] += 1\n",
    "        \n",
    "        if (ii==6) and (nn.startswith('Northward')) :\n",
    "            cc = (df[[ii]]< 0.0);      df.iloc[cn(cc),ii] = 0.0\n",
    "            cc = (df[[ii]]> 5.0);      df.iloc[cn(cc),ii] = 5.0\n",
    "            badly[cn(cc)] += 1\n",
    "        \n",
    "        if (ii==7) and (nn.startswith('Oceanic')) : \n",
    "            cc = (df[[ii]]> 0.0);      df.iloc[cn(cc),ii] = -df.iloc[cn(cc),ii]\n",
    "            cc = (df[[ii]]< -10000.0); df.iloc[cn(cc),ii] = -10000.0\n",
    "            badly[cn(cc)] += 1\n",
    "        \n",
    "        if (ii==8) and (nn.startswith('SOG')) : \n",
    "            cc = (df[[ii]]<  0.0);      df.iloc[cn(cc),ii] =  0.0; badly[cn(cc)] += 1\n",
    "            cc = (df[[ii]]> 35.0);      df.iloc[cn(cc),ii] =  0.0; badly[cn(cc)] += 1\n",
    "        \n",
    "        if (ii==9) and (nn.startswith('Salinity')) : \n",
    "            cc = (df[[ii]]<  0.0);      df.iloc[cn(cc),ii] =  0.0; badly[cn(cc)] += 1\n",
    "            #cc = (df[[ii]]> 35.0);      df.iloc[cn(cc),ii] =  0.0; badly[cn(cc)] += 1\n",
    "        \n",
    "        if (ii==10) and (nn.startswith('Sea')) : \n",
    "            cc = (df[[ii]]<  0.0);      df.iloc[cn(cc),ii] =  0.0; badly[cn(cc)] += 1\n",
    "            #cc = (df[[ii]]> 35.0);      df.iloc[cn(cc),ii] =  0.0; badly[cn(cc)] += 1\n",
    "        \n",
    "        if (ii==11) and (nn.startswith('Speed')) : \n",
    "            cc = (df[[ii]]<  0.0);      df.iloc[cn(cc),ii] =  0.0; badly[cn(cc)] += 1\n",
    "            cc = (df[[ii]]> 35.0);      df.iloc[cn(cc),ii] =  0.0; badly[cn(cc)] += 1\n",
    "\n",
    "        if (ii==11) and (nn.startswith('Thermocline')) : \n",
    "            cc = (df[[ii]]<     0.0);      df.iloc[cn(cc),ii] =     0.0; badly[cn(cc)] += 1\n",
    "            cc = (df[[ii]]>  5000.0);      df.iloc[cn(cc),ii] =  5000.0; badly[cn(cc)] += 1\n",
    "\n",
    "        if (ii==15) and (nn.startswith('Water')) : \n",
    "            cc = (df[[ii]]<  -100.0);      df.iloc[cn(cc),ii] =     0.0; badly[cn(cc)] += 1\n",
    "            #cc = (df[[ii]]>  5000.0);      df.iloc[cn(cc),ii] =  5000.0; badly[cn(cc)] += 1\n",
    "\n",
    "    print(cc.sum(),badly.sum())\n",
    "    return(badly)"
   ]
  },
  {
   "cell_type": "code",
   "execution_count": null,
   "metadata": {
    "collapsed": true,
    "deletable": true,
    "editable": true
   },
   "outputs": [],
   "source": []
  },
  {
   "cell_type": "code",
   "execution_count": 4,
   "metadata": {
    "collapsed": false,
    "deletable": true,
    "editable": true
   },
   "outputs": [],
   "source": [
    "# Читаем train список\n",
    "train_list = pd.read_csv('../Data/training.txt', header=None)\n",
    "train_list.columns=['trackfile','typing']"
   ]
  },
  {
   "cell_type": "code",
   "execution_count": 5,
   "metadata": {
    "collapsed": false,
    "deletable": true,
    "editable": true
   },
   "outputs": [
    {
     "data": {
      "text/html": [
       "<div>\n",
       "<table border=\"1\" class=\"dataframe\">\n",
       "  <thead>\n",
       "    <tr style=\"text-align: right;\">\n",
       "      <th></th>\n",
       "      <th>trackfile</th>\n",
       "      <th>typing</th>\n",
       "    </tr>\n",
       "  </thead>\n",
       "  <tbody>\n",
       "    <tr>\n",
       "      <th>0</th>\n",
       "      <td>100047</td>\n",
       "      <td>trawler</td>\n",
       "    </tr>\n",
       "    <tr>\n",
       "      <th>1</th>\n",
       "      <td>100070</td>\n",
       "      <td>longliner</td>\n",
       "    </tr>\n",
       "    <tr>\n",
       "      <th>2</th>\n",
       "      <td>100080</td>\n",
       "      <td>seiner</td>\n",
       "    </tr>\n",
       "    <tr>\n",
       "      <th>3</th>\n",
       "      <td>100093</td>\n",
       "      <td>other</td>\n",
       "    </tr>\n",
       "    <tr>\n",
       "      <th>4</th>\n",
       "      <td>100144</td>\n",
       "      <td>trawler</td>\n",
       "    </tr>\n",
       "  </tbody>\n",
       "</table>\n",
       "</div>"
      ],
      "text/plain": [
       "   trackfile     typing\n",
       "0     100047    trawler\n",
       "1     100070  longliner\n",
       "2     100080     seiner\n",
       "3     100093      other\n",
       "4     100144    trawler"
      ]
     },
     "execution_count": 5,
     "metadata": {},
     "output_type": "execute_result"
    }
   ],
   "source": [
    "train_list.head()"
   ]
  },
  {
   "cell_type": "code",
   "execution_count": 6,
   "metadata": {
    "collapsed": false,
    "deletable": true,
    "editable": true
   },
   "outputs": [
    {
     "data": {
      "text/plain": [
       "['trawler', 'longliner', 'seiner', 'other', 'support']"
      ]
     },
     "execution_count": 6,
     "metadata": {},
     "output_type": "execute_result"
    }
   ],
   "source": [
    "y_class = train_list['typing'].unique().tolist(); y_class"
   ]
  },
  {
   "cell_type": "code",
   "execution_count": null,
   "metadata": {
    "collapsed": true,
    "deletable": true,
    "editable": true
   },
   "outputs": [],
   "source": []
  },
  {
   "cell_type": "code",
   "execution_count": 7,
   "metadata": {
    "collapsed": false,
    "deletable": true,
    "editable": true
   },
   "outputs": [
    {
     "name": "stdout",
     "output_type": "stream",
     "text": [
      "test length: 1211\n"
     ]
    },
    {
     "data": {
      "text/html": [
       "<div>\n",
       "<table border=\"1\" class=\"dataframe\">\n",
       "  <thead>\n",
       "    <tr style=\"text-align: right;\">\n",
       "      <th></th>\n",
       "      <th>trackfile</th>\n",
       "    </tr>\n",
       "  </thead>\n",
       "  <tbody>\n",
       "    <tr>\n",
       "      <th>0</th>\n",
       "      <td>100015</td>\n",
       "    </tr>\n",
       "    <tr>\n",
       "      <th>1</th>\n",
       "      <td>100045</td>\n",
       "    </tr>\n",
       "    <tr>\n",
       "      <th>2</th>\n",
       "      <td>100060</td>\n",
       "    </tr>\n",
       "    <tr>\n",
       "      <th>3</th>\n",
       "      <td>100112</td>\n",
       "    </tr>\n",
       "    <tr>\n",
       "      <th>4</th>\n",
       "      <td>100131</td>\n",
       "    </tr>\n",
       "  </tbody>\n",
       "</table>\n",
       "</div>"
      ],
      "text/plain": [
       "   trackfile\n",
       "0     100015\n",
       "1     100045\n",
       "2     100060\n",
       "3     100112\n",
       "4     100131"
      ]
     },
     "execution_count": 7,
     "metadata": {},
     "output_type": "execute_result"
    }
   ],
   "source": [
    "# Читаем test список\n",
    "test_list = pd.read_csv('../Data/testing.txt', header=None)\n",
    "test_list.columns=['trackfile']\n",
    "print 'test length:',len(test_list)\n",
    "test_list.head()"
   ]
  },
  {
   "cell_type": "code",
   "execution_count": null,
   "metadata": {
    "collapsed": false,
    "deletable": true,
    "editable": true
   },
   "outputs": [],
   "source": []
  },
  {
   "cell_type": "code",
   "execution_count": 12,
   "metadata": {
    "collapsed": false,
    "deletable": true,
    "editable": true
   },
   "outputs": [
    {
     "name": "stdout",
     "output_type": "stream",
     "text": [
      "((1209, 5), (8080623, 20))\n"
     ]
    }
   ],
   "source": [
    "# Строим train массивы из файлов списка\n",
    "y_train = []\n",
    "\n",
    "for ii,ffile in enumerate((train_list['trackfile'].values.tolist())) : #[:10]) :\n",
    "    xx = pd.read_csv(os.path.join('../Data/VesselTracks',str(ffile)+'.csv'))\n",
    "    xx['Time']  = xx[[1]]\n",
    "    xx['sTime'] = np.abs(xx.Time.diff(-1)).fillna(0.0)\n",
    "    xx['hTime'] = xx.sTime/3600.0\n",
    "    xx['Depth'] = xx[[5]]\n",
    "    \n",
    "    havLa       = (0.5*(1.0-np.cos(-xx.Latitude.diff(-1)/180.0*math.pi))).fillna(0.0)\n",
    "    havLo       = (0.5*(1.0-np.cos(-xx.Longitude.diff(-1)/180.0*math.pi))).fillna(0.0)\n",
    "    \n",
    "    cosLa       = (np.cos(xx.Latitude/180.0*math.pi)).fillna(0.0)\n",
    "    \n",
    "    hav         = (havLa+cosLa*cosLa.shift(-1)*havLo).fillna(0.0)\n",
    "    dist = (2*6371.0*np.arcsin(np.sqrt(hav))).fillna(0.0)\n",
    "    \n",
    "    xx['Distance'] = dist\n",
    "    xx['Speed']    = (dist/1.852/xx.hTime).fillna(0.0)\n",
    "    \n",
    "    xx = xx.fillna(0.0)\n",
    "    \n",
    "    if (ii==0) : trainAll = xx.copy()\n",
    "    else : trainAll = trainAll.append(xx.copy())\n",
    "        \n",
    "    y1          = [0]*len(y_class);  \n",
    "    y1[y_class.index(train_list.typing[ii])] = 1;\n",
    "    y_train.append(y1)\n",
    "    \n",
    "y_train = np.array(y_train)\n",
    "print(y_train.shape,trainAll.shape)"
   ]
  },
  {
   "cell_type": "code",
   "execution_count": 14,
   "metadata": {
    "collapsed": false,
    "deletable": true,
    "editable": true
   },
   "outputs": [],
   "source": [
    "trainAll.to_csv('../Data/trainingAll.csv',index=False)"
   ]
  },
  {
   "cell_type": "code",
   "execution_count": 26,
   "metadata": {
    "collapsed": true,
    "deletable": true,
    "editable": true
   },
   "outputs": [],
   "source": [
    "trainAll = pd.read_csv('../Data/trainingAll.csv')"
   ]
  },
  {
   "cell_type": "code",
   "execution_count": 27,
   "metadata": {
    "collapsed": false,
    "deletable": true,
    "editable": true
   },
   "outputs": [
    {
     "name": "stdout",
     "output_type": "stream",
     "text": [
      "(Speed    27178\n",
      "dtype: int64, 2661055)\n"
     ]
    }
   ],
   "source": [
    "trainWeights = dataClean(trainAll)"
   ]
  },
  {
   "cell_type": "code",
   "execution_count": null,
   "metadata": {
    "collapsed": false,
    "deletable": true,
    "editable": true
   },
   "outputs": [],
   "source": []
  },
  {
   "cell_type": "code",
   "execution_count": 17,
   "metadata": {
    "collapsed": false,
    "deletable": true,
    "editable": true
   },
   "outputs": [
    {
     "name": "stdout",
     "output_type": "stream",
     "text": [
      "total 2118448\r\n",
      "drwxrwxrwx 1 boba boba       4096 сен  1 15:28 .\r\n",
      "drwxrwxrwx 1 boba boba       4096 сен  1 16:12 ..\r\n",
      "-rwxrwxrwx 1 boba boba  973453918 сен  1 15:29 testingAll.csv\r\n",
      "-rwxrwxrwx 1 boba boba       8477 авг 25 23:42 testing.txt\r\n",
      "-rwxrwxrwx 1 boba boba 1195264916 сен  2 01:53 trainingAll.csv\r\n",
      "-rwxrwxrwx 1 boba boba      18151 авг 25 23:40 training.txt\r\n",
      "drwxrwxrwx 1 boba boba     528384 авг 26 00:37 VesselTracks\r\n"
     ]
    },
    {
     "data": {
      "text/plain": [
       "(8080623, 20)"
      ]
     },
     "execution_count": 17,
     "metadata": {},
     "output_type": "execute_result"
    }
   ],
   "source": [
    "!ls -la ../Data\n",
    "trainAll.shape"
   ]
  },
  {
   "cell_type": "code",
   "execution_count": null,
   "metadata": {
    "collapsed": false,
    "deletable": true,
    "editable": true,
    "scrolled": true
   },
   "outputs": [],
   "source": []
  },
  {
   "cell_type": "code",
   "execution_count": null,
   "metadata": {
    "collapsed": false,
    "deletable": true,
    "editable": true
   },
   "outputs": [],
   "source": []
  },
  {
   "cell_type": "code",
   "execution_count": 18,
   "metadata": {
    "collapsed": false,
    "deletable": true,
    "editable": true
   },
   "outputs": [
    {
     "name": "stderr",
     "output_type": "stream",
     "text": [
      "/home/boba/anaconda2/envs/tensorflow-gpu/lib/python2.7/site-packages/ipykernel/__main__.py:6: SettingWithCopyWarning: \n",
      "A value is trying to be set on a copy of a slice from a DataFrame\n",
      "\n",
      "See the caveats in the documentation: http://pandas.pydata.org/pandas-docs/stable/indexing.html#indexing-view-versus-copy\n"
     ]
    },
    {
     "data": {
      "text/html": [
       "<div>\n",
       "<table border=\"1\" class=\"dataframe\">\n",
       "  <thead>\n",
       "    <tr style=\"text-align: right;\">\n",
       "      <th></th>\n",
       "      <th>typing</th>\n",
       "      <th>y</th>\n",
       "    </tr>\n",
       "    <tr>\n",
       "      <th>trackfile</th>\n",
       "      <th></th>\n",
       "      <th></th>\n",
       "    </tr>\n",
       "  </thead>\n",
       "  <tbody>\n",
       "    <tr>\n",
       "      <th>100047</th>\n",
       "      <td>trawler</td>\n",
       "      <td>0</td>\n",
       "    </tr>\n",
       "    <tr>\n",
       "      <th>100070</th>\n",
       "      <td>longliner</td>\n",
       "      <td>1</td>\n",
       "    </tr>\n",
       "    <tr>\n",
       "      <th>100080</th>\n",
       "      <td>seiner</td>\n",
       "      <td>2</td>\n",
       "    </tr>\n",
       "    <tr>\n",
       "      <th>100093</th>\n",
       "      <td>other</td>\n",
       "      <td>3</td>\n",
       "    </tr>\n",
       "    <tr>\n",
       "      <th>100144</th>\n",
       "      <td>trawler</td>\n",
       "      <td>0</td>\n",
       "    </tr>\n",
       "  </tbody>\n",
       "</table>\n",
       "</div>"
      ],
      "text/plain": [
       "              typing  y\n",
       "trackfile              \n",
       "100047       trawler  0\n",
       "100070     longliner  1\n",
       "100080        seiner  2\n",
       "100093         other  3\n",
       "100144       trawler  0"
      ]
     },
     "execution_count": 18,
     "metadata": {},
     "output_type": "execute_result"
    }
   ],
   "source": [
    "##train_list.head()\n",
    "trainIndex=train_list.copy()\n",
    "##trainIndex.head()\n",
    "trainIndex['y'] = -1\n",
    "for ii in range(len(trainIndex)) : \n",
    "    trainIndex.y[ii] = y_class.index(trainIndex.typing[ii])\n",
    "    \n",
    "trainIndex=trainIndex.set_index('trackfile')\n",
    "trainIndex.head()"
   ]
  },
  {
   "cell_type": "code",
   "execution_count": 19,
   "metadata": {
    "collapsed": false,
    "deletable": true,
    "editable": true
   },
   "outputs": [
    {
     "data": {
      "image/png": "[encoded data removed]",
      "text/plain": [
       "<matplotlib.figure.Figure at 0x7f1c9178c750>"
      ]
     },
     "metadata": {},
     "output_type": "display_data"
    },
    {
     "data": {
      "text/html": [
       "<div>\n",
       "<table border=\"1\" class=\"dataframe\">\n",
       "  <thead>\n",
       "    <tr style=\"text-align: right;\">\n",
       "      <th></th>\n",
       "      <th>TrackNumber</th>\n",
       "      <th>Chlorophyll Concentration</th>\n",
       "      <th>Depth</th>\n",
       "      <th>Distance</th>\n",
       "      <th>Eastward Water Velocity</th>\n",
       "      <th>Latitude</th>\n",
       "      <th>Longitude</th>\n",
       "      <th>Northward Water Velocity</th>\n",
       "      <th>Oceanic Depth</th>\n",
       "      <th>SOG</th>\n",
       "      <th>...</th>\n",
       "      <th>Sea Temperature</th>\n",
       "      <th>Speed</th>\n",
       "      <th>Thermocline Depth</th>\n",
       "      <th>Time</th>\n",
       "      <th>Time(seconds)</th>\n",
       "      <th>Water Surface Elevation</th>\n",
       "      <th>hTime</th>\n",
       "      <th>oceanic depth</th>\n",
       "      <th>sTime</th>\n",
       "      <th>y</th>\n",
       "    </tr>\n",
       "  </thead>\n",
       "  <tbody>\n",
       "    <tr>\n",
       "      <th>0</th>\n",
       "      <td>100047</td>\n",
       "      <td>0.3105</td>\n",
       "      <td>-4.0</td>\n",
       "      <td>3.186329</td>\n",
       "      <td>0.06</td>\n",
       "      <td>41.101078</td>\n",
       "      <td>1.235355</td>\n",
       "      <td>0.01</td>\n",
       "      <td>NaN</td>\n",
       "      <td>7.4</td>\n",
       "      <td>...</td>\n",
       "      <td>10.7</td>\n",
       "      <td>6.652769</td>\n",
       "      <td>111.0</td>\n",
       "      <td>0</td>\n",
       "      <td>0</td>\n",
       "      <td>-0.22</td>\n",
       "      <td>0.258611</td>\n",
       "      <td>-4.0</td>\n",
       "      <td>931.0</td>\n",
       "      <td>0</td>\n",
       "    </tr>\n",
       "    <tr>\n",
       "      <th>1</th>\n",
       "      <td>100047</td>\n",
       "      <td>0.3043</td>\n",
       "      <td>-11.0</td>\n",
       "      <td>5.981159</td>\n",
       "      <td>0.06</td>\n",
       "      <td>41.074507</td>\n",
       "      <td>1.221120</td>\n",
       "      <td>0.02</td>\n",
       "      <td>NaN</td>\n",
       "      <td>5.1</td>\n",
       "      <td>...</td>\n",
       "      <td>10.7</td>\n",
       "      <td>9.012747</td>\n",
       "      <td>109.5</td>\n",
       "      <td>931</td>\n",
       "      <td>931</td>\n",
       "      <td>-0.22</td>\n",
       "      <td>0.358333</td>\n",
       "      <td>-11.0</td>\n",
       "      <td>1290.0</td>\n",
       "      <td>0</td>\n",
       "    </tr>\n",
       "    <tr>\n",
       "      <th>2</th>\n",
       "      <td>100047</td>\n",
       "      <td>0.3059</td>\n",
       "      <td>-16.0</td>\n",
       "      <td>8.779740</td>\n",
       "      <td>0.06</td>\n",
       "      <td>41.043652</td>\n",
       "      <td>1.279553</td>\n",
       "      <td>0.04</td>\n",
       "      <td>NaN</td>\n",
       "      <td>10.2</td>\n",
       "      <td>...</td>\n",
       "      <td>10.7</td>\n",
       "      <td>10.337037</td>\n",
       "      <td>117.4</td>\n",
       "      <td>2221</td>\n",
       "      <td>2221</td>\n",
       "      <td>-0.23</td>\n",
       "      <td>0.458611</td>\n",
       "      <td>-16.0</td>\n",
       "      <td>1651.0</td>\n",
       "      <td>0</td>\n",
       "    </tr>\n",
       "    <tr>\n",
       "      <th>3</th>\n",
       "      <td>100047</td>\n",
       "      <td>0.3674</td>\n",
       "      <td>-46.0</td>\n",
       "      <td>0.000000</td>\n",
       "      <td>0.08</td>\n",
       "      <td>40.998603</td>\n",
       "      <td>1.365502</td>\n",
       "      <td>0.07</td>\n",
       "      <td>NaN</td>\n",
       "      <td>10.5</td>\n",
       "      <td>...</td>\n",
       "      <td>10.6</td>\n",
       "      <td>0.000000</td>\n",
       "      <td>123.8</td>\n",
       "      <td>3872</td>\n",
       "      <td>3872</td>\n",
       "      <td>-0.24</td>\n",
       "      <td>0.000278</td>\n",
       "      <td>-46.0</td>\n",
       "      <td>1.0</td>\n",
       "      <td>0</td>\n",
       "    </tr>\n",
       "    <tr>\n",
       "      <th>4</th>\n",
       "      <td>100047</td>\n",
       "      <td>0.3674</td>\n",
       "      <td>-46.0</td>\n",
       "      <td>0.000095</td>\n",
       "      <td>0.08</td>\n",
       "      <td>40.998603</td>\n",
       "      <td>1.365502</td>\n",
       "      <td>0.07</td>\n",
       "      <td>NaN</td>\n",
       "      <td>10.5</td>\n",
       "      <td>...</td>\n",
       "      <td>10.6</td>\n",
       "      <td>0.046135</td>\n",
       "      <td>123.8</td>\n",
       "      <td>3873</td>\n",
       "      <td>3873</td>\n",
       "      <td>-0.24</td>\n",
       "      <td>0.001111</td>\n",
       "      <td>-46.0</td>\n",
       "      <td>4.0</td>\n",
       "      <td>0</td>\n",
       "    </tr>\n",
       "  </tbody>\n",
       "</table>\n",
       "<p>5 rows × 21 columns</p>\n",
       "</div>"
      ],
      "text/plain": [
       "   TrackNumber  Chlorophyll Concentration  Depth  Distance  \\\n",
       "0       100047                     0.3105   -4.0  3.186329   \n",
       "1       100047                     0.3043  -11.0  5.981159   \n",
       "2       100047                     0.3059  -16.0  8.779740   \n",
       "3       100047                     0.3674  -46.0  0.000000   \n",
       "4       100047                     0.3674  -46.0  0.000095   \n",
       "\n",
       "   Eastward Water Velocity   Latitude  Longitude  Northward Water Velocity  \\\n",
       "0                     0.06  41.101078   1.235355                      0.01   \n",
       "1                     0.06  41.074507   1.221120                      0.02   \n",
       "2                     0.06  41.043652   1.279553                      0.04   \n",
       "3                     0.08  40.998603   1.365502                      0.07   \n",
       "4                     0.08  40.998603   1.365502                      0.07   \n",
       "\n",
       "   Oceanic Depth   SOG ...  Sea Temperature      Speed  Thermocline Depth  \\\n",
       "0            NaN   7.4 ...             10.7   6.652769              111.0   \n",
       "1            NaN   5.1 ...             10.7   9.012747              109.5   \n",
       "2            NaN  10.2 ...             10.7  10.337037              117.4   \n",
       "3            NaN  10.5 ...             10.6   0.000000              123.8   \n",
       "4            NaN  10.5 ...             10.6   0.046135              123.8   \n",
       "\n",
       "   Time  Time(seconds)  Water Surface Elevation     hTime  oceanic depth  \\\n",
       "0     0              0                    -0.22  0.258611           -4.0   \n",
       "1   931            931                    -0.22  0.358333          -11.0   \n",
       "2  2221           2221                    -0.23  0.458611          -16.0   \n",
       "3  3872           3872                    -0.24  0.000278          -46.0   \n",
       "4  3873           3873                    -0.24  0.001111          -46.0   \n",
       "\n",
       "    sTime  y  \n",
       "0   931.0  0  \n",
       "1  1290.0  0  \n",
       "2  1651.0  0  \n",
       "3     1.0  0  \n",
       "4     4.0  0  \n",
       "\n",
       "[5 rows x 21 columns]"
      ]
     },
     "execution_count": 19,
     "metadata": {},
     "output_type": "execute_result"
    }
   ],
   "source": [
    "train = trainAll.set_index('TrackNumber')\n",
    "train.head()\n",
    "train['y'] = trainIndex.y\n",
    "train = train.reset_index()\n",
    "plt.hist(train.y); plt.show()\n",
    "train.head()"
   ]
  },
  {
   "cell_type": "code",
   "execution_count": null,
   "metadata": {
    "collapsed": false,
    "deletable": true,
    "editable": true
   },
   "outputs": [],
   "source": []
  },
  {
   "cell_type": "code",
   "execution_count": 20,
   "metadata": {
    "collapsed": false,
    "deletable": true,
    "editable": true
   },
   "outputs": [
    {
     "name": "stderr",
     "output_type": "stream",
     "text": [
      "/home/boba/anaconda2/envs/tensorflow-gpu/lib/python2.7/site-packages/sklearn/cross_validation.py:44: DeprecationWarning: This module was deprecated in version 0.18 in favor of the model_selection module into which all the refactored classes and functions are moved. Also note that the interface of the new CV iterators are different from that of this module. This module will be removed in 0.20.\n",
      "  \"This module will be removed in 0.20.\", DeprecationWarning)\n"
     ]
    }
   ],
   "source": [
    "import xgboost as xgb"
   ]
  },
  {
   "cell_type": "code",
   "execution_count": null,
   "metadata": {
    "collapsed": false,
    "deletable": true,
    "editable": true
   },
   "outputs": [],
   "source": []
  },
  {
   "cell_type": "code",
   "execution_count": 21,
   "metadata": {
    "collapsed": false,
    "deletable": true,
    "editable": true
   },
   "outputs": [],
   "source": [
    "train_x = train.drop(['y','TrackNumber','Time','Time(seconds)'],axis=1)  #[:1000000]\n",
    "train_y = train.y.values  #[:1000000]\n",
    "\n",
    "mtrain = xgb.DMatrix(train_x,label=train_y)"
   ]
  },
  {
   "cell_type": "code",
   "execution_count": 37,
   "metadata": {
    "collapsed": false,
    "deletable": true,
    "editable": true
   },
   "outputs": [
    {
     "data": {
      "image/png": "[encoded data removed]",
      "text/plain": [
       "<matplotlib.figure.Figure at 0x7f1c8d651dd0>"
      ]
     },
     "metadata": {},
     "output_type": "display_data"
    },
    {
     "data": {
      "text/plain": [
       "(0.29411764705882354, 1.0, (8080623, 17), 0, 8)"
      ]
     },
     "execution_count": 37,
     "metadata": {},
     "output_type": "execute_result"
    }
   ],
   "source": [
    "# Добавляем веса, чтобы не удалять записи из массива\n",
    "temp = (0.0+train_x.shape[1]-1.5*trainWeights)/train_x.shape[1]\n",
    "mtrain.set_weight(temp)\n",
    "trainWeights.min(), trainWeights.max()\n",
    "plt.hist(temp,bins=50); plt.show()\n",
    "temp.min(),temp.max(), train_x.shape, trainWeights.min(), trainWeights.max()"
   ]
  },
  {
   "cell_type": "code",
   "execution_count": 39,
   "metadata": {
    "collapsed": false,
    "deletable": true,
    "editable": true
   },
   "outputs": [
    {
     "data": {
      "text/plain": [
       "((8080623,),\n",
       " (8080623, 17),\n",
       " ['Chlorophyll Concentration',\n",
       "  'Depth',\n",
       "  'Distance',\n",
       "  'Eastward Water Velocity',\n",
       "  'Latitude',\n",
       "  'Longitude',\n",
       "  'Northward Water Velocity',\n",
       "  'Oceanic Depth',\n",
       "  'SOG',\n",
       "  'Salinity',\n",
       "  'Sea Temperature',\n",
       "  'Speed',\n",
       "  'Thermocline Depth',\n",
       "  'Water Surface Elevation',\n",
       "  'hTime',\n",
       "  'oceanic depth',\n",
       "  'sTime'],\n",
       " 4)"
      ]
     },
     "execution_count": 39,
     "metadata": {},
     "output_type": "execute_result"
    }
   ],
   "source": [
    "train_y.shape, train_x.shape, train_x.columns.tolist(), train_y.max()"
   ]
  },
  {
   "cell_type": "code",
   "execution_count": 40,
   "metadata": {
    "collapsed": false,
    "deletable": true,
    "editable": true
   },
   "outputs": [],
   "source": [
    "##import sklearn as sk\n",
    "##from sklearn.model_selection import cross_val_score"
   ]
  },
  {
   "cell_type": "code",
   "execution_count": 41,
   "metadata": {
    "collapsed": false,
    "deletable": true,
    "editable": true
   },
   "outputs": [],
   "source": [
    "##cross_val_score(estimator=xgb.XGBClassifier(), X=train_x, y=train_y, cv=5, scoring='accuracy')"
   ]
  },
  {
   "cell_type": "code",
   "execution_count": null,
   "metadata": {
    "collapsed": true,
    "deletable": true,
    "editable": true
   },
   "outputs": [],
   "source": []
  },
  {
   "cell_type": "code",
   "execution_count": 137,
   "metadata": {
    "collapsed": true,
    "deletable": true,
    "editable": true
   },
   "outputs": [],
   "source": [
    "parms = {'reg':'logistic'}\n",
    "parms = {'multi':'softmax','num_class':5,'metrics':'mlogloss'}\n",
    "parms = {'multi':'softprob','num_class':5,'metrics':'mlogloss'}\n",
    "parms['objective'] = 'multi:softprob'\n",
    "##parms = {'reg':'logistic'}\n",
    "##parms = {'reg':'linear','metrics':'auc'}\n",
    "\n",
    "##hist = xgb.cv(parms,mtrain,num_boost_round=30,nfold=5,early_stopping_rounds=4,verbose_eval=True,metrics='mlogloss')\n",
    "#hist = xgb.train(parms,mtrain,num_boost_round=30,early_stopping_rounds=5)"
   ]
  },
  {
   "cell_type": "code",
   "execution_count": 43,
   "metadata": {
    "collapsed": true,
    "deletable": true,
    "editable": true
   },
   "outputs": [
    {
     "data": {
      "text/html": [
       "<div>\n",
       "<table border=\"1\" class=\"dataframe\">\n",
       "  <thead>\n",
       "    <tr style=\"text-align: right;\">\n",
       "      <th></th>\n",
       "      <th>test-mlogloss-mean</th>\n",
       "      <th>test-mlogloss-std</th>\n",
       "      <th>train-mlogloss-mean</th>\n",
       "      <th>train-mlogloss-std</th>\n",
       "    </tr>\n",
       "  </thead>\n",
       "  <tbody>\n",
       "    <tr>\n",
       "      <th>0</th>\n",
       "      <td>1.183572</td>\n",
       "      <td>0.000218</td>\n",
       "      <td>1.183535</td>\n",
       "      <td>0.000321</td>\n",
       "    </tr>\n",
       "    <tr>\n",
       "      <th>1</th>\n",
       "      <td>0.962493</td>\n",
       "      <td>0.000726</td>\n",
       "      <td>0.962443</td>\n",
       "      <td>0.000934</td>\n",
       "    </tr>\n",
       "    <tr>\n",
       "      <th>2</th>\n",
       "      <td>0.818388</td>\n",
       "      <td>0.001130</td>\n",
       "      <td>0.818279</td>\n",
       "      <td>0.001569</td>\n",
       "    </tr>\n",
       "    <tr>\n",
       "      <th>3</th>\n",
       "      <td>0.716918</td>\n",
       "      <td>0.001965</td>\n",
       "      <td>0.716817</td>\n",
       "      <td>0.002439</td>\n",
       "    </tr>\n",
       "    <tr>\n",
       "      <th>4</th>\n",
       "      <td>0.640891</td>\n",
       "      <td>0.001619</td>\n",
       "      <td>0.640770</td>\n",
       "      <td>0.001972</td>\n",
       "    </tr>\n",
       "    <tr>\n",
       "      <th>5</th>\n",
       "      <td>0.582834</td>\n",
       "      <td>0.001618</td>\n",
       "      <td>0.582703</td>\n",
       "      <td>0.002051</td>\n",
       "    </tr>\n",
       "    <tr>\n",
       "      <th>6</th>\n",
       "      <td>0.538055</td>\n",
       "      <td>0.000757</td>\n",
       "      <td>0.537917</td>\n",
       "      <td>0.001027</td>\n",
       "    </tr>\n",
       "    <tr>\n",
       "      <th>7</th>\n",
       "      <td>0.503687</td>\n",
       "      <td>0.000899</td>\n",
       "      <td>0.503535</td>\n",
       "      <td>0.001081</td>\n",
       "    </tr>\n",
       "    <tr>\n",
       "      <th>8</th>\n",
       "      <td>0.476368</td>\n",
       "      <td>0.000822</td>\n",
       "      <td>0.476194</td>\n",
       "      <td>0.001130</td>\n",
       "    </tr>\n",
       "    <tr>\n",
       "      <th>9</th>\n",
       "      <td>0.454000</td>\n",
       "      <td>0.001078</td>\n",
       "      <td>0.453808</td>\n",
       "      <td>0.001136</td>\n",
       "    </tr>\n",
       "    <tr>\n",
       "      <th>10</th>\n",
       "      <td>0.436203</td>\n",
       "      <td>0.001283</td>\n",
       "      <td>0.435985</td>\n",
       "      <td>0.001314</td>\n",
       "    </tr>\n",
       "    <tr>\n",
       "      <th>11</th>\n",
       "      <td>0.419917</td>\n",
       "      <td>0.001286</td>\n",
       "      <td>0.419670</td>\n",
       "      <td>0.001159</td>\n",
       "    </tr>\n",
       "    <tr>\n",
       "      <th>12</th>\n",
       "      <td>0.405870</td>\n",
       "      <td>0.002122</td>\n",
       "      <td>0.405652</td>\n",
       "      <td>0.001974</td>\n",
       "    </tr>\n",
       "    <tr>\n",
       "      <th>13</th>\n",
       "      <td>0.394752</td>\n",
       "      <td>0.001968</td>\n",
       "      <td>0.394511</td>\n",
       "      <td>0.001881</td>\n",
       "    </tr>\n",
       "    <tr>\n",
       "      <th>14</th>\n",
       "      <td>0.384628</td>\n",
       "      <td>0.001868</td>\n",
       "      <td>0.384367</td>\n",
       "      <td>0.001757</td>\n",
       "    </tr>\n",
       "    <tr>\n",
       "      <th>15</th>\n",
       "      <td>0.375403</td>\n",
       "      <td>0.001716</td>\n",
       "      <td>0.375141</td>\n",
       "      <td>0.001543</td>\n",
       "    </tr>\n",
       "    <tr>\n",
       "      <th>16</th>\n",
       "      <td>0.366724</td>\n",
       "      <td>0.001770</td>\n",
       "      <td>0.366453</td>\n",
       "      <td>0.001709</td>\n",
       "    </tr>\n",
       "    <tr>\n",
       "      <th>17</th>\n",
       "      <td>0.358513</td>\n",
       "      <td>0.001600</td>\n",
       "      <td>0.358233</td>\n",
       "      <td>0.001403</td>\n",
       "    </tr>\n",
       "    <tr>\n",
       "      <th>18</th>\n",
       "      <td>0.351421</td>\n",
       "      <td>0.001471</td>\n",
       "      <td>0.351114</td>\n",
       "      <td>0.001215</td>\n",
       "    </tr>\n",
       "    <tr>\n",
       "      <th>19</th>\n",
       "      <td>0.344735</td>\n",
       "      <td>0.001620</td>\n",
       "      <td>0.344415</td>\n",
       "      <td>0.001444</td>\n",
       "    </tr>\n",
       "    <tr>\n",
       "      <th>20</th>\n",
       "      <td>0.338101</td>\n",
       "      <td>0.001030</td>\n",
       "      <td>0.337767</td>\n",
       "      <td>0.001079</td>\n",
       "    </tr>\n",
       "    <tr>\n",
       "      <th>21</th>\n",
       "      <td>0.333222</td>\n",
       "      <td>0.001204</td>\n",
       "      <td>0.332881</td>\n",
       "      <td>0.001227</td>\n",
       "    </tr>\n",
       "    <tr>\n",
       "      <th>22</th>\n",
       "      <td>0.327924</td>\n",
       "      <td>0.001078</td>\n",
       "      <td>0.327564</td>\n",
       "      <td>0.001062</td>\n",
       "    </tr>\n",
       "    <tr>\n",
       "      <th>23</th>\n",
       "      <td>0.323452</td>\n",
       "      <td>0.000964</td>\n",
       "      <td>0.323081</td>\n",
       "      <td>0.001026</td>\n",
       "    </tr>\n",
       "    <tr>\n",
       "      <th>24</th>\n",
       "      <td>0.319080</td>\n",
       "      <td>0.000861</td>\n",
       "      <td>0.318697</td>\n",
       "      <td>0.000850</td>\n",
       "    </tr>\n",
       "    <tr>\n",
       "      <th>25</th>\n",
       "      <td>0.314647</td>\n",
       "      <td>0.000907</td>\n",
       "      <td>0.314255</td>\n",
       "      <td>0.000819</td>\n",
       "    </tr>\n",
       "    <tr>\n",
       "      <th>26</th>\n",
       "      <td>0.310299</td>\n",
       "      <td>0.000683</td>\n",
       "      <td>0.309888</td>\n",
       "      <td>0.000627</td>\n",
       "    </tr>\n",
       "    <tr>\n",
       "      <th>27</th>\n",
       "      <td>0.305677</td>\n",
       "      <td>0.000919</td>\n",
       "      <td>0.305264</td>\n",
       "      <td>0.000955</td>\n",
       "    </tr>\n",
       "    <tr>\n",
       "      <th>28</th>\n",
       "      <td>0.301614</td>\n",
       "      <td>0.001325</td>\n",
       "      <td>0.301171</td>\n",
       "      <td>0.001363</td>\n",
       "    </tr>\n",
       "    <tr>\n",
       "      <th>29</th>\n",
       "      <td>0.297902</td>\n",
       "      <td>0.000824</td>\n",
       "      <td>0.297451</td>\n",
       "      <td>0.001180</td>\n",
       "    </tr>\n",
       "  </tbody>\n",
       "</table>\n",
       "</div>"
      ],
      "text/plain": [
       "    test-mlogloss-mean  test-mlogloss-std  train-mlogloss-mean  \\\n",
       "0             1.183572           0.000218             1.183535   \n",
       "1             0.962493           0.000726             0.962443   \n",
       "2             0.818388           0.001130             0.818279   \n",
       "3             0.716918           0.001965             0.716817   \n",
       "4             0.640891           0.001619             0.640770   \n",
       "5             0.582834           0.001618             0.582703   \n",
       "6             0.538055           0.000757             0.537917   \n",
       "7             0.503687           0.000899             0.503535   \n",
       "8             0.476368           0.000822             0.476194   \n",
       "9             0.454000           0.001078             0.453808   \n",
       "10            0.436203           0.001283             0.435985   \n",
       "11            0.419917           0.001286             0.419670   \n",
       "12            0.405870           0.002122             0.405652   \n",
       "13            0.394752           0.001968             0.394511   \n",
       "14            0.384628           0.001868             0.384367   \n",
       "15            0.375403           0.001716             0.375141   \n",
       "16            0.366724           0.001770             0.366453   \n",
       "17            0.358513           0.001600             0.358233   \n",
       "18            0.351421           0.001471             0.351114   \n",
       "19            0.344735           0.001620             0.344415   \n",
       "20            0.338101           0.001030             0.337767   \n",
       "21            0.333222           0.001204             0.332881   \n",
       "22            0.327924           0.001078             0.327564   \n",
       "23            0.323452           0.000964             0.323081   \n",
       "24            0.319080           0.000861             0.318697   \n",
       "25            0.314647           0.000907             0.314255   \n",
       "26            0.310299           0.000683             0.309888   \n",
       "27            0.305677           0.000919             0.305264   \n",
       "28            0.301614           0.001325             0.301171   \n",
       "29            0.297902           0.000824             0.297451   \n",
       "\n",
       "    train-mlogloss-std  \n",
       "0             0.000321  \n",
       "1             0.000934  \n",
       "2             0.001569  \n",
       "3             0.002439  \n",
       "4             0.001972  \n",
       "5             0.002051  \n",
       "6             0.001027  \n",
       "7             0.001081  \n",
       "8             0.001130  \n",
       "9             0.001136  \n",
       "10            0.001314  \n",
       "11            0.001159  \n",
       "12            0.001974  \n",
       "13            0.001881  \n",
       "14            0.001757  \n",
       "15            0.001543  \n",
       "16            0.001709  \n",
       "17            0.001403  \n",
       "18            0.001215  \n",
       "19            0.001444  \n",
       "20            0.001079  \n",
       "21            0.001227  \n",
       "22            0.001062  \n",
       "23            0.001026  \n",
       "24            0.000850  \n",
       "25            0.000819  \n",
       "26            0.000627  \n",
       "27            0.000955  \n",
       "28            0.001363  \n",
       "29            0.001180  "
      ]
     },
     "execution_count": 43,
     "metadata": {},
     "output_type": "execute_result"
    }
   ],
   "source": [
    "hist"
   ]
  },
  {
   "cell_type": "code",
   "execution_count": 157,
   "metadata": {
    "collapsed": false,
    "deletable": true,
    "editable": true
   },
   "outputs": [],
   "source": [
    "xgbmodel = xgb.train(parms,mtrain,num_boost_round=400,verbose_eval=True, xgb_model=xgbmodel) # = 1000"
   ]
  },
  {
   "cell_type": "code",
   "execution_count": 169,
   "metadata": {
    "collapsed": true,
    "deletable": true,
    "editable": true
   },
   "outputs": [],
   "source": [
    "##xgbmodel.load_model('../Work/xgbModelClean.bst')\n",
    "xgbmodel.save_model('../Work/xgbModelCleanSoftProb.bst')"
   ]
  },
  {
   "cell_type": "code",
   "execution_count": 159,
   "metadata": {
    "collapsed": false,
    "deletable": true,
    "editable": true
   },
   "outputs": [],
   "source": [
    "pred_y = xgbmodel.predict(mtrain); ##pred_y[-20:],pred_y.max()"
   ]
  },
  {
   "cell_type": "code",
   "execution_count": 160,
   "metadata": {
    "collapsed": false,
    "deletable": true,
    "editable": true
   },
   "outputs": [
    {
     "data": {
      "text/plain": [
       "((8080623, 5), 1.0)"
      ]
     },
     "execution_count": 160,
     "metadata": {},
     "output_type": "execute_result"
    }
   ],
   "source": [
    "pred_y.shape, pred_y.max() #pred_y[:4]"
   ]
  },
  {
   "cell_type": "code",
   "execution_count": 161,
   "metadata": {
    "collapsed": false,
    "deletable": true,
    "editable": true
   },
   "outputs": [
    {
     "data": {
      "text/plain": [
       "(8080623,)"
      ]
     },
     "execution_count": 161,
     "metadata": {},
     "output_type": "execute_result"
    }
   ],
   "source": [
    "pred_y_softmax=pred_y.argmax(axis=1); pred_y_softmax.shape"
   ]
  },
  {
   "cell_type": "code",
   "execution_count": 162,
   "metadata": {
    "collapsed": false,
    "deletable": true,
    "editable": true
   },
   "outputs": [
    {
     "data": {
      "text/plain": [
       "0.99144880289551929"
      ]
     },
     "execution_count": 162,
     "metadata": {},
     "output_type": "execute_result"
    }
   ],
   "source": [
    "((pred_y_softmax==train_y).sum()/float(len(pred_y)))"
   ]
  },
  {
   "cell_type": "code",
   "execution_count": 163,
   "metadata": {
    "collapsed": false,
    "deletable": true,
    "editable": true
   },
   "outputs": [
    {
     "name": "stdout",
     "output_type": "stream",
     "text": [
      "   TrackNumber      Yes    No\n",
      "0       100047    669.0   0.0\n",
      "1       100070    393.0  15.0\n",
      "2       100080  12165.0   1.0\n",
      "3       100093   6120.0   3.0\n",
      "4       100144  15478.0   0.0\n"
     ]
    },
    {
     "data": {
      "text/plain": [
       "0.1654259718775848"
      ]
     },
     "execution_count": 163,
     "metadata": {},
     "output_type": "execute_result"
    }
   ],
   "source": [
    "df_diff = pd.DataFrame(train.TrackNumber,columns=['TrackNumber'])\n",
    "df_diff['true_y'] = np.array(train_y,dtype=np.uint8)\n",
    "df_diff['pred_y'] = np.array(pred_y_softmax, dtype=np.uint8)\n",
    "\n",
    "df_diff['OK']    = df_diff.true_y==df_diff.pred_y\n",
    "\n",
    "#print(df_diff.head())\n",
    "\n",
    "len(df_diff)-df_diff.OK.sum()\n",
    "aa = df_diff.groupby(['TrackNumber','OK']).size().reset_index(); aa.columns=['TrackNumber','OK','ccount']; aa.head()\n",
    "bb = pd.DataFrame(train.TrackNumber.unique(),columns=['TrackNumber'])\n",
    "bb['xx'] = 1.0; bb=bb.set_index(['TrackNumber'])\n",
    "cc = aa[['TrackNumber','ccount']][aa.OK==True];  cc.head(); cc = cc.set_index(['TrackNumber']); bb['Yes']=cc\n",
    "cc = aa[['TrackNumber','ccount']][aa.OK==False]; cc.head(); cc = cc.set_index('TrackNumber'); bb['No'] =cc\n",
    "bb=bb.reset_index().drop('xx',axis=1).fillna(0)\n",
    "print(bb.head())\n",
    "float(len(bb[bb.No>bb.Yes]))/len(bb)*100.0"
   ]
  },
  {
   "cell_type": "code",
   "execution_count": null,
   "metadata": {
    "collapsed": false,
    "deletable": true,
    "editable": true
   },
   "outputs": [],
   "source": []
  },
  {
   "cell_type": "code",
   "execution_count": null,
   "metadata": {
    "collapsed": false,
    "deletable": true,
    "editable": true
   },
   "outputs": [],
   "source": []
  },
  {
   "cell_type": "code",
   "execution_count": null,
   "metadata": {
    "collapsed": false,
    "deletable": true,
    "editable": true
   },
   "outputs": [],
   "source": []
  },
  {
   "cell_type": "code",
   "execution_count": null,
   "metadata": {
    "collapsed": false,
    "deletable": true,
    "editable": true
   },
   "outputs": [],
   "source": []
  },
  {
   "cell_type": "code",
   "execution_count": null,
   "metadata": {
    "collapsed": false,
    "deletable": true,
    "editable": true
   },
   "outputs": [],
   "source": []
  },
  {
   "cell_type": "code",
   "execution_count": 71,
   "metadata": {
    "collapsed": false,
    "deletable": true,
    "editable": true
   },
   "outputs": [
    {
     "data": {
      "text/html": [
       "<div>\n",
       "<table border=\"1\" class=\"dataframe\">\n",
       "  <thead>\n",
       "    <tr style=\"text-align: right;\">\n",
       "      <th></th>\n",
       "      <th>Chlorophyll Concentration</th>\n",
       "      <th>Depth</th>\n",
       "      <th>Distance</th>\n",
       "      <th>Eastward Water Velocity</th>\n",
       "      <th>Latitude</th>\n",
       "      <th>Longitude</th>\n",
       "      <th>Northward Water Velocity</th>\n",
       "      <th>Oceanic Depth</th>\n",
       "      <th>SOG</th>\n",
       "      <th>Salinity</th>\n",
       "      <th>Sea Temperature</th>\n",
       "      <th>Speed</th>\n",
       "      <th>Thermocline Depth</th>\n",
       "      <th>Time</th>\n",
       "      <th>Time(seconds)</th>\n",
       "      <th>TrackNumber</th>\n",
       "      <th>Water Surface Elevation</th>\n",
       "      <th>hTime</th>\n",
       "      <th>oceanic depth</th>\n",
       "      <th>sTime</th>\n",
       "    </tr>\n",
       "  </thead>\n",
       "  <tbody>\n",
       "    <tr>\n",
       "      <th>count</th>\n",
       "      <td>8.080623e+06</td>\n",
       "      <td>8.080623e+06</td>\n",
       "      <td>8.080623e+06</td>\n",
       "      <td>8.080623e+06</td>\n",
       "      <td>8.080623e+06</td>\n",
       "      <td>8.080623e+06</td>\n",
       "      <td>8.080623e+06</td>\n",
       "      <td>7.248314e+06</td>\n",
       "      <td>8.080623e+06</td>\n",
       "      <td>8.080623e+06</td>\n",
       "      <td>8.080623e+06</td>\n",
       "      <td>8.080623e+06</td>\n",
       "      <td>8.080623e+06</td>\n",
       "      <td>8.080623e+06</td>\n",
       "      <td>8.080623e+06</td>\n",
       "      <td>8.080623e+06</td>\n",
       "      <td>8.080623e+06</td>\n",
       "      <td>8.080623e+06</td>\n",
       "      <td>832309.000000</td>\n",
       "      <td>8.080623e+06</td>\n",
       "    </tr>\n",
       "    <tr>\n",
       "      <th>mean</th>\n",
       "      <td>1.306924e-01</td>\n",
       "      <td>-3.748951e+02</td>\n",
       "      <td>1.316068e+01</td>\n",
       "      <td>1.363955e-01</td>\n",
       "      <td>2.796590e+01</td>\n",
       "      <td>-2.567147e+01</td>\n",
       "      <td>6.817065e-02</td>\n",
       "      <td>-3.830014e+02</td>\n",
       "      <td>3.911368e+00</td>\n",
       "      <td>3.137154e+01</td>\n",
       "      <td>1.257363e+01</td>\n",
       "      <td>3.307977e+00</td>\n",
       "      <td>-8.999723e+03</td>\n",
       "      <td>3.791576e+06</td>\n",
       "      <td>3.791576e+06</td>\n",
       "      <td>1.163657e+05</td>\n",
       "      <td>-9.052766e+03</td>\n",
       "      <td>3.014258e-01</td>\n",
       "      <td>-300.709360</td>\n",
       "      <td>1.085133e+03</td>\n",
       "    </tr>\n",
       "    <tr>\n",
       "      <th>std</th>\n",
       "      <td>2.037974e-01</td>\n",
       "      <td>6.178872e+02</td>\n",
       "      <td>3.558859e+02</td>\n",
       "      <td>1.941308e-01</td>\n",
       "      <td>2.914675e+01</td>\n",
       "      <td>1.090697e+02</td>\n",
       "      <td>1.105915e-01</td>\n",
       "      <td>6.315409e+02</td>\n",
       "      <td>4.690608e+00</td>\n",
       "      <td>9.921257e+00</td>\n",
       "      <td>1.151546e+01</td>\n",
       "      <td>4.720997e+00</td>\n",
       "      <td>2.888963e+04</td>\n",
       "      <td>2.274637e+06</td>\n",
       "      <td>2.274637e+06</td>\n",
       "      <td>9.198222e+03</td>\n",
       "      <td>2.869292e+04</td>\n",
       "      <td>5.182724e+00</td>\n",
       "      <td>479.412829</td>\n",
       "      <td>1.865781e+04</td>\n",
       "    </tr>\n",
       "    <tr>\n",
       "      <th>min</th>\n",
       "      <td>0.000000e+00</td>\n",
       "      <td>-1.000000e+04</td>\n",
       "      <td>0.000000e+00</td>\n",
       "      <td>0.000000e+00</td>\n",
       "      <td>-9.000000e+01</td>\n",
       "      <td>-1.800000e+02</td>\n",
       "      <td>0.000000e+00</td>\n",
       "      <td>-1.000000e+04</td>\n",
       "      <td>0.000000e+00</td>\n",
       "      <td>0.000000e+00</td>\n",
       "      <td>0.000000e+00</td>\n",
       "      <td>0.000000e+00</td>\n",
       "      <td>-9.999900e+04</td>\n",
       "      <td>0.000000e+00</td>\n",
       "      <td>0.000000e+00</td>\n",
       "      <td>1.000470e+05</td>\n",
       "      <td>-9.999900e+04</td>\n",
       "      <td>0.000000e+00</td>\n",
       "      <td>-2241.000000</td>\n",
       "      <td>0.000000e+00</td>\n",
       "    </tr>\n",
       "    <tr>\n",
       "      <th>25%</th>\n",
       "      <td>0.000000e+00</td>\n",
       "      <td>-8.850000e+02</td>\n",
       "      <td>1.517171e-03</td>\n",
       "      <td>0.000000e+00</td>\n",
       "      <td>1.987981e+00</td>\n",
       "      <td>-1.246882e+02</td>\n",
       "      <td>0.000000e+00</td>\n",
       "      <td>-9.080000e+02</td>\n",
       "      <td>0.000000e+00</td>\n",
       "      <td>3.400000e+01</td>\n",
       "      <td>6.000000e-01</td>\n",
       "      <td>6.680306e-03</td>\n",
       "      <td>8.470000e+01</td>\n",
       "      <td>1.798463e+06</td>\n",
       "      <td>1.798463e+06</td>\n",
       "      <td>1.085250e+05</td>\n",
       "      <td>-1.500000e+00</td>\n",
       "      <td>3.888889e-03</td>\n",
       "      <td>-389.000000</td>\n",
       "      <td>1.400000e+01</td>\n",
       "    </tr>\n",
       "    <tr>\n",
       "      <th>50%</th>\n",
       "      <td>0.000000e+00</td>\n",
       "      <td>-3.400000e+01</td>\n",
       "      <td>1.109556e-02</td>\n",
       "      <td>4.000000e-02</td>\n",
       "      <td>4.103076e+01</td>\n",
       "      <td>-5.097478e+00</td>\n",
       "      <td>0.000000e+00</td>\n",
       "      <td>-3.500000e+01</td>\n",
       "      <td>1.600000e+00</td>\n",
       "      <td>3.420000e+01</td>\n",
       "      <td>9.000000e+00</td>\n",
       "      <td>2.691390e-01</td>\n",
       "      <td>1.326000e+02</td>\n",
       "      <td>3.729598e+06</td>\n",
       "      <td>3.729598e+06</td>\n",
       "      <td>1.159690e+05</td>\n",
       "      <td>-2.300000e-01</td>\n",
       "      <td>6.666667e-02</td>\n",
       "      <td>-23.000000</td>\n",
       "      <td>2.400000e+02</td>\n",
       "    </tr>\n",
       "    <tr>\n",
       "      <th>75%</th>\n",
       "      <td>1.744000e-01</td>\n",
       "      <td>-3.000000e+00</td>\n",
       "      <td>3.386869e-01</td>\n",
       "      <td>2.200000e-01</td>\n",
       "      <td>5.362523e+01</td>\n",
       "      <td>1.537687e+01</td>\n",
       "      <td>1.100000e-01</td>\n",
       "      <td>-4.000000e+00</td>\n",
       "      <td>7.800000e+00</td>\n",
       "      <td>3.480000e+01</td>\n",
       "      <td>2.650000e+01</td>\n",
       "      <td>5.947320e+00</td>\n",
       "      <td>1.799000e+02</td>\n",
       "      <td>5.718402e+06</td>\n",
       "      <td>5.718402e+06</td>\n",
       "      <td>1.246320e+05</td>\n",
       "      <td>2.700000e-01</td>\n",
       "      <td>2.511111e-01</td>\n",
       "      <td>-2.000000</td>\n",
       "      <td>9.040000e+02</td>\n",
       "    </tr>\n",
       "    <tr>\n",
       "      <th>max</th>\n",
       "      <td>1.000000e+00</td>\n",
       "      <td>0.000000e+00</td>\n",
       "      <td>1.947627e+04</td>\n",
       "      <td>2.460000e+00</td>\n",
       "      <td>9.000000e+01</td>\n",
       "      <td>1.800000e+02</td>\n",
       "      <td>2.090000e+00</td>\n",
       "      <td>0.000000e+00</td>\n",
       "      <td>3.460000e+01</td>\n",
       "      <td>4.020000e+01</td>\n",
       "      <td>3.480000e+01</td>\n",
       "      <td>3.499928e+01</td>\n",
       "      <td>2.551600e+03</td>\n",
       "      <td>7.948768e+06</td>\n",
       "      <td>7.948768e+06</td>\n",
       "      <td>1.327590e+05</td>\n",
       "      <td>1.870000e+00</td>\n",
       "      <td>1.726042e+03</td>\n",
       "      <td>719.000000</td>\n",
       "      <td>6.213751e+06</td>\n",
       "    </tr>\n",
       "  </tbody>\n",
       "</table>\n",
       "</div>"
      ],
      "text/plain": [
       "       Chlorophyll Concentration         Depth      Distance  \\\n",
       "count               8.080623e+06  8.080623e+06  8.080623e+06   \n",
       "mean                1.306924e-01 -3.748951e+02  1.316068e+01   \n",
       "std                 2.037974e-01  6.178872e+02  3.558859e+02   \n",
       "min                 0.000000e+00 -1.000000e+04  0.000000e+00   \n",
       "25%                 0.000000e+00 -8.850000e+02  1.517171e-03   \n",
       "50%                 0.000000e+00 -3.400000e+01  1.109556e-02   \n",
       "75%                 1.744000e-01 -3.000000e+00  3.386869e-01   \n",
       "max                 1.000000e+00  0.000000e+00  1.947627e+04   \n",
       "\n",
       "       Eastward Water Velocity      Latitude     Longitude  \\\n",
       "count             8.080623e+06  8.080623e+06  8.080623e+06   \n",
       "mean              1.363955e-01  2.796590e+01 -2.567147e+01   \n",
       "std               1.941308e-01  2.914675e+01  1.090697e+02   \n",
       "min               0.000000e+00 -9.000000e+01 -1.800000e+02   \n",
       "25%               0.000000e+00  1.987981e+00 -1.246882e+02   \n",
       "50%               4.000000e-02  4.103076e+01 -5.097478e+00   \n",
       "75%               2.200000e-01  5.362523e+01  1.537687e+01   \n",
       "max               2.460000e+00  9.000000e+01  1.800000e+02   \n",
       "\n",
       "       Northward Water Velocity  Oceanic Depth           SOG      Salinity  \\\n",
       "count              8.080623e+06   7.248314e+06  8.080623e+06  8.080623e+06   \n",
       "mean               6.817065e-02  -3.830014e+02  3.911368e+00  3.137154e+01   \n",
       "std                1.105915e-01   6.315409e+02  4.690608e+00  9.921257e+00   \n",
       "min                0.000000e+00  -1.000000e+04  0.000000e+00  0.000000e+00   \n",
       "25%                0.000000e+00  -9.080000e+02  0.000000e+00  3.400000e+01   \n",
       "50%                0.000000e+00  -3.500000e+01  1.600000e+00  3.420000e+01   \n",
       "75%                1.100000e-01  -4.000000e+00  7.800000e+00  3.480000e+01   \n",
       "max                2.090000e+00   0.000000e+00  3.460000e+01  4.020000e+01   \n",
       "\n",
       "       Sea Temperature         Speed  Thermocline Depth          Time  \\\n",
       "count     8.080623e+06  8.080623e+06       8.080623e+06  8.080623e+06   \n",
       "mean      1.257363e+01  3.307977e+00      -8.999723e+03  3.791576e+06   \n",
       "std       1.151546e+01  4.720997e+00       2.888963e+04  2.274637e+06   \n",
       "min       0.000000e+00  0.000000e+00      -9.999900e+04  0.000000e+00   \n",
       "25%       6.000000e-01  6.680306e-03       8.470000e+01  1.798463e+06   \n",
       "50%       9.000000e+00  2.691390e-01       1.326000e+02  3.729598e+06   \n",
       "75%       2.650000e+01  5.947320e+00       1.799000e+02  5.718402e+06   \n",
       "max       3.480000e+01  3.499928e+01       2.551600e+03  7.948768e+06   \n",
       "\n",
       "       Time(seconds)   TrackNumber  Water Surface Elevation         hTime  \\\n",
       "count   8.080623e+06  8.080623e+06             8.080623e+06  8.080623e+06   \n",
       "mean    3.791576e+06  1.163657e+05            -9.052766e+03  3.014258e-01   \n",
       "std     2.274637e+06  9.198222e+03             2.869292e+04  5.182724e+00   \n",
       "min     0.000000e+00  1.000470e+05            -9.999900e+04  0.000000e+00   \n",
       "25%     1.798463e+06  1.085250e+05            -1.500000e+00  3.888889e-03   \n",
       "50%     3.729598e+06  1.159690e+05            -2.300000e-01  6.666667e-02   \n",
       "75%     5.718402e+06  1.246320e+05             2.700000e-01  2.511111e-01   \n",
       "max     7.948768e+06  1.327590e+05             1.870000e+00  1.726042e+03   \n",
       "\n",
       "       oceanic depth         sTime  \n",
       "count  832309.000000  8.080623e+06  \n",
       "mean     -300.709360  1.085133e+03  \n",
       "std       479.412829  1.865781e+04  \n",
       "min     -2241.000000  0.000000e+00  \n",
       "25%      -389.000000  1.400000e+01  \n",
       "50%       -23.000000  2.400000e+02  \n",
       "75%        -2.000000  9.040000e+02  \n",
       "max       719.000000  6.213751e+06  "
      ]
     },
     "execution_count": 71,
     "metadata": {},
     "output_type": "execute_result"
    }
   ],
   "source": [
    "trainAll.describe()"
   ]
  },
  {
   "cell_type": "code",
   "execution_count": 72,
   "metadata": {
    "collapsed": false,
    "deletable": true,
    "editable": true
   },
   "outputs": [
    {
     "data": {
      "text/html": [
       "<div>\n",
       "<table border=\"1\" class=\"dataframe\">\n",
       "  <thead>\n",
       "    <tr style=\"text-align: right;\">\n",
       "      <th></th>\n",
       "      <th>Chlorophyll Concentration</th>\n",
       "      <th>Depth</th>\n",
       "      <th>Distance</th>\n",
       "      <th>Eastward Water Velocity</th>\n",
       "      <th>Latitude</th>\n",
       "      <th>Longitude</th>\n",
       "      <th>Northward Water Velocity</th>\n",
       "      <th>Oceanic Depth</th>\n",
       "      <th>SOG</th>\n",
       "      <th>Salinity</th>\n",
       "      <th>Sea Temperature</th>\n",
       "      <th>Speed</th>\n",
       "      <th>Thermocline Depth</th>\n",
       "      <th>Time</th>\n",
       "      <th>Time(seconds)</th>\n",
       "      <th>TrackNumber</th>\n",
       "      <th>Water Surface Elevation</th>\n",
       "      <th>hTime</th>\n",
       "      <th>oceanic depth</th>\n",
       "      <th>sTime</th>\n",
       "    </tr>\n",
       "  </thead>\n",
       "  <tbody>\n",
       "    <tr>\n",
       "      <th>count</th>\n",
       "      <td>6.586899e+06</td>\n",
       "      <td>6.586899e+06</td>\n",
       "      <td>6.586899e+06</td>\n",
       "      <td>6.586899e+06</td>\n",
       "      <td>6.586899e+06</td>\n",
       "      <td>6.586899e+06</td>\n",
       "      <td>6.586899e+06</td>\n",
       "      <td>5.780701e+06</td>\n",
       "      <td>6.586899e+06</td>\n",
       "      <td>6.586899e+06</td>\n",
       "      <td>6.586899e+06</td>\n",
       "      <td>6.586899e+06</td>\n",
       "      <td>6.586899e+06</td>\n",
       "      <td>6.586899e+06</td>\n",
       "      <td>6.586899e+06</td>\n",
       "      <td>6.586899e+06</td>\n",
       "      <td>6.586899e+06</td>\n",
       "      <td>6.586899e+06</td>\n",
       "      <td>806198.000000</td>\n",
       "      <td>6.586899e+06</td>\n",
       "    </tr>\n",
       "    <tr>\n",
       "      <th>mean</th>\n",
       "      <td>1.836288e-01</td>\n",
       "      <td>-4.125636e+02</td>\n",
       "      <td>6.853781e+00</td>\n",
       "      <td>1.438525e-01</td>\n",
       "      <td>2.692668e+01</td>\n",
       "      <td>4.557332e+00</td>\n",
       "      <td>7.746507e-02</td>\n",
       "      <td>-4.221097e+02</td>\n",
       "      <td>3.923371e+00</td>\n",
       "      <td>3.091068e+01</td>\n",
       "      <td>1.185751e+01</td>\n",
       "      <td>3.338380e+00</td>\n",
       "      <td>-1.041067e+04</td>\n",
       "      <td>3.789619e+06</td>\n",
       "      <td>3.789619e+06</td>\n",
       "      <td>1.164658e+05</td>\n",
       "      <td>-1.041934e+04</td>\n",
       "      <td>3.705482e-01</td>\n",
       "      <td>-341.318816</td>\n",
       "      <td>1.333973e+03</td>\n",
       "    </tr>\n",
       "    <tr>\n",
       "      <th>std</th>\n",
       "      <td>2.376818e-01</td>\n",
       "      <td>8.057506e+02</td>\n",
       "      <td>2.033259e+02</td>\n",
       "      <td>1.874133e-01</td>\n",
       "      <td>3.033503e+01</td>\n",
       "      <td>8.531220e+01</td>\n",
       "      <td>1.191309e-01</td>\n",
       "      <td>8.397425e+02</td>\n",
       "      <td>4.505223e+00</td>\n",
       "      <td>1.056854e+01</td>\n",
       "      <td>1.198546e+01</td>\n",
       "      <td>4.530877e+00</td>\n",
       "      <td>3.077808e+04</td>\n",
       "      <td>2.288671e+06</td>\n",
       "      <td>2.288671e+06</td>\n",
       "      <td>9.561745e+03</td>\n",
       "      <td>3.055021e+04</td>\n",
       "      <td>6.095759e+00</td>\n",
       "      <td>494.724329</td>\n",
       "      <td>2.194473e+04</td>\n",
       "    </tr>\n",
       "    <tr>\n",
       "      <th>min</th>\n",
       "      <td>0.000000e+00</td>\n",
       "      <td>-1.000000e+04</td>\n",
       "      <td>0.000000e+00</td>\n",
       "      <td>0.000000e+00</td>\n",
       "      <td>-9.000000e+01</td>\n",
       "      <td>-1.800000e+02</td>\n",
       "      <td>0.000000e+00</td>\n",
       "      <td>-1.000000e+04</td>\n",
       "      <td>0.000000e+00</td>\n",
       "      <td>0.000000e+00</td>\n",
       "      <td>0.000000e+00</td>\n",
       "      <td>0.000000e+00</td>\n",
       "      <td>-9.999900e+04</td>\n",
       "      <td>0.000000e+00</td>\n",
       "      <td>0.000000e+00</td>\n",
       "      <td>1.000150e+05</td>\n",
       "      <td>-9.999900e+04</td>\n",
       "      <td>0.000000e+00</td>\n",
       "      <td>-2228.000000</td>\n",
       "      <td>0.000000e+00</td>\n",
       "    </tr>\n",
       "    <tr>\n",
       "      <th>25%</th>\n",
       "      <td>0.000000e+00</td>\n",
       "      <td>-9.070000e+02</td>\n",
       "      <td>1.828281e-03</td>\n",
       "      <td>0.000000e+00</td>\n",
       "      <td>1.061401e+00</td>\n",
       "      <td>-9.760993e+00</td>\n",
       "      <td>0.000000e+00</td>\n",
       "      <td>-9.200000e+02</td>\n",
       "      <td>0.000000e+00</td>\n",
       "      <td>3.390000e+01</td>\n",
       "      <td>0.000000e+00</td>\n",
       "      <td>7.803044e-03</td>\n",
       "      <td>8.350000e+01</td>\n",
       "      <td>1.786442e+06</td>\n",
       "      <td>1.786442e+06</td>\n",
       "      <td>1.080470e+05</td>\n",
       "      <td>-1.700000e+00</td>\n",
       "      <td>5.555556e-03</td>\n",
       "      <td>-789.000000</td>\n",
       "      <td>2.000000e+01</td>\n",
       "    </tr>\n",
       "    <tr>\n",
       "      <th>50%</th>\n",
       "      <td>9.660000e-02</td>\n",
       "      <td>-2.700000e+01</td>\n",
       "      <td>2.327186e-02</td>\n",
       "      <td>7.000000e-02</td>\n",
       "      <td>3.899289e+01</td>\n",
       "      <td>1.107060e+00</td>\n",
       "      <td>0.000000e+00</td>\n",
       "      <td>-2.800000e+01</td>\n",
       "      <td>2.300000e+00</td>\n",
       "      <td>3.420000e+01</td>\n",
       "      <td>9.600000e+00</td>\n",
       "      <td>7.579832e-01</td>\n",
       "      <td>1.435000e+02</td>\n",
       "      <td>3.696384e+06</td>\n",
       "      <td>3.696384e+06</td>\n",
       "      <td>1.170240e+05</td>\n",
       "      <td>-4.000000e-01</td>\n",
       "      <td>8.722222e-02</td>\n",
       "      <td>-23.000000</td>\n",
       "      <td>3.140000e+02</td>\n",
       "    </tr>\n",
       "    <tr>\n",
       "      <th>75%</th>\n",
       "      <td>2.674000e-01</td>\n",
       "      <td>-3.000000e+00</td>\n",
       "      <td>6.219797e-01</td>\n",
       "      <td>2.400000e-01</td>\n",
       "      <td>5.223359e+01</td>\n",
       "      <td>1.612305e+01</td>\n",
       "      <td>1.300000e-01</td>\n",
       "      <td>-3.000000e+00</td>\n",
       "      <td>7.500000e+00</td>\n",
       "      <td>3.480000e+01</td>\n",
       "      <td>2.600000e+01</td>\n",
       "      <td>5.885579e+00</td>\n",
       "      <td>1.841000e+02</td>\n",
       "      <td>5.739774e+06</td>\n",
       "      <td>5.739774e+06</td>\n",
       "      <td>1.245090e+05</td>\n",
       "      <td>2.000000e-01</td>\n",
       "      <td>2.555556e-01</td>\n",
       "      <td>-2.000000</td>\n",
       "      <td>9.200000e+02</td>\n",
       "    </tr>\n",
       "    <tr>\n",
       "      <th>max</th>\n",
       "      <td>1.000000e+00</td>\n",
       "      <td>0.000000e+00</td>\n",
       "      <td>1.832449e+04</td>\n",
       "      <td>2.110000e+00</td>\n",
       "      <td>9.000000e+01</td>\n",
       "      <td>1.800000e+02</td>\n",
       "      <td>1.490000e+00</td>\n",
       "      <td>0.000000e+00</td>\n",
       "      <td>3.480000e+01</td>\n",
       "      <td>4.040000e+01</td>\n",
       "      <td>3.470000e+01</td>\n",
       "      <td>3.499575e+01</td>\n",
       "      <td>2.614500e+03</td>\n",
       "      <td>7.948752e+06</td>\n",
       "      <td>7.948752e+06</td>\n",
       "      <td>1.326810e+05</td>\n",
       "      <td>3.140000e+00</td>\n",
       "      <td>1.762986e+03</td>\n",
       "      <td>850.000000</td>\n",
       "      <td>6.346749e+06</td>\n",
       "    </tr>\n",
       "  </tbody>\n",
       "</table>\n",
       "</div>"
      ],
      "text/plain": [
       "       Chlorophyll Concentration         Depth      Distance  \\\n",
       "count               6.586899e+06  6.586899e+06  6.586899e+06   \n",
       "mean                1.836288e-01 -4.125636e+02  6.853781e+00   \n",
       "std                 2.376818e-01  8.057506e+02  2.033259e+02   \n",
       "min                 0.000000e+00 -1.000000e+04  0.000000e+00   \n",
       "25%                 0.000000e+00 -9.070000e+02  1.828281e-03   \n",
       "50%                 9.660000e-02 -2.700000e+01  2.327186e-02   \n",
       "75%                 2.674000e-01 -3.000000e+00  6.219797e-01   \n",
       "max                 1.000000e+00  0.000000e+00  1.832449e+04   \n",
       "\n",
       "       Eastward Water Velocity      Latitude     Longitude  \\\n",
       "count             6.586899e+06  6.586899e+06  6.586899e+06   \n",
       "mean              1.438525e-01  2.692668e+01  4.557332e+00   \n",
       "std               1.874133e-01  3.033503e+01  8.531220e+01   \n",
       "min               0.000000e+00 -9.000000e+01 -1.800000e+02   \n",
       "25%               0.000000e+00  1.061401e+00 -9.760993e+00   \n",
       "50%               7.000000e-02  3.899289e+01  1.107060e+00   \n",
       "75%               2.400000e-01  5.223359e+01  1.612305e+01   \n",
       "max               2.110000e+00  9.000000e+01  1.800000e+02   \n",
       "\n",
       "       Northward Water Velocity  Oceanic Depth           SOG      Salinity  \\\n",
       "count              6.586899e+06   5.780701e+06  6.586899e+06  6.586899e+06   \n",
       "mean               7.746507e-02  -4.221097e+02  3.923371e+00  3.091068e+01   \n",
       "std                1.191309e-01   8.397425e+02  4.505223e+00  1.056854e+01   \n",
       "min                0.000000e+00  -1.000000e+04  0.000000e+00  0.000000e+00   \n",
       "25%                0.000000e+00  -9.200000e+02  0.000000e+00  3.390000e+01   \n",
       "50%                0.000000e+00  -2.800000e+01  2.300000e+00  3.420000e+01   \n",
       "75%                1.300000e-01  -3.000000e+00  7.500000e+00  3.480000e+01   \n",
       "max                1.490000e+00   0.000000e+00  3.480000e+01  4.040000e+01   \n",
       "\n",
       "       Sea Temperature         Speed  Thermocline Depth          Time  \\\n",
       "count     6.586899e+06  6.586899e+06       6.586899e+06  6.586899e+06   \n",
       "mean      1.185751e+01  3.338380e+00      -1.041067e+04  3.789619e+06   \n",
       "std       1.198546e+01  4.530877e+00       3.077808e+04  2.288671e+06   \n",
       "min       0.000000e+00  0.000000e+00      -9.999900e+04  0.000000e+00   \n",
       "25%       0.000000e+00  7.803044e-03       8.350000e+01  1.786442e+06   \n",
       "50%       9.600000e+00  7.579832e-01       1.435000e+02  3.696384e+06   \n",
       "75%       2.600000e+01  5.885579e+00       1.841000e+02  5.739774e+06   \n",
       "max       3.470000e+01  3.499575e+01       2.614500e+03  7.948752e+06   \n",
       "\n",
       "       Time(seconds)   TrackNumber  Water Surface Elevation         hTime  \\\n",
       "count   6.586899e+06  6.586899e+06             6.586899e+06  6.586899e+06   \n",
       "mean    3.789619e+06  1.164658e+05            -1.041934e+04  3.705482e-01   \n",
       "std     2.288671e+06  9.561745e+03             3.055021e+04  6.095759e+00   \n",
       "min     0.000000e+00  1.000150e+05            -9.999900e+04  0.000000e+00   \n",
       "25%     1.786442e+06  1.080470e+05            -1.700000e+00  5.555556e-03   \n",
       "50%     3.696384e+06  1.170240e+05            -4.000000e-01  8.722222e-02   \n",
       "75%     5.739774e+06  1.245090e+05             2.000000e-01  2.555556e-01   \n",
       "max     7.948752e+06  1.326810e+05             3.140000e+00  1.762986e+03   \n",
       "\n",
       "       oceanic depth         sTime  \n",
       "count  806198.000000  6.586899e+06  \n",
       "mean     -341.318816  1.333973e+03  \n",
       "std       494.724329  2.194473e+04  \n",
       "min     -2228.000000  0.000000e+00  \n",
       "25%      -789.000000  2.000000e+01  \n",
       "50%       -23.000000  3.140000e+02  \n",
       "75%        -2.000000  9.200000e+02  \n",
       "max       850.000000  6.346749e+06  "
      ]
     },
     "execution_count": 72,
     "metadata": {},
     "output_type": "execute_result"
    }
   ],
   "source": [
    "testAll.describe()"
   ]
  },
  {
   "cell_type": "code",
   "execution_count": 73,
   "metadata": {
    "collapsed": false,
    "deletable": true,
    "editable": true
   },
   "outputs": [],
   "source": [
    "##xgbmodel.save_model('../Work/xgbModel.bst')"
   ]
  },
  {
   "cell_type": "code",
   "execution_count": 164,
   "metadata": {
    "collapsed": false,
    "deletable": true,
    "editable": true,
    "scrolled": true
   },
   "outputs": [
    {
     "data": {
      "text/plain": [
       "[['Longitude', 11.359239094694361],\n",
       " ['Latitude', 11.006545087031313],\n",
       " ['SOG', 9.593346231988896],\n",
       " ['Water Surface Elevation', 7.662701310747995],\n",
       " ['Oceanic Depth', 7.657855661967542],\n",
       " ['Thermocline Depth', 7.582055870330438],\n",
       " ['Sea Temperature', 7.227285156047196],\n",
       " ['Chlorophyll Concentration', 6.2045071456013625],\n",
       " ['Eastward Water Velocity', 6.030756025045082],\n",
       " ['Northward Water Velocity', 5.448239818080499],\n",
       " ['Salinity', 5.30875435675743],\n",
       " ['Depth', 4.761888280106189],\n",
       " ['Speed', 3.227548205552421],\n",
       " ['Distance', 2.887660555380574],\n",
       " ['hTime', 2.751636271757828],\n",
       " ['oceanic depth', 1.2899809289108712]]"
      ]
     },
     "execution_count": 164,
     "metadata": {},
     "output_type": "execute_result"
    }
   ],
   "source": [
    "fimp  = xgbmodel.get_fscore();\n",
    "ffimp = [[k,fimp[k]] for k in fimp.keys()]; \n",
    "ffimp.sort(key=lambda x: x[1],reverse=True)\n",
    "tempsum = 0\n",
    "for temp in ffimp : tempsum+=temp[1];\n",
    "##print(tempsum)\n",
    "for ii,temp in enumerate(ffimp) : \n",
    "    ffimp[ii][1] = float(ffimp[ii][1])/tempsum*100.0;\n",
    "ffimp"
   ]
  },
  {
   "cell_type": "code",
   "execution_count": 76,
   "metadata": {
    "collapsed": false,
    "deletable": true,
    "editable": true
   },
   "outputs": [
    {
     "data": {
      "text/plain": [
       "(['trawler', 'longliner', 'seiner', 'other', 'support'], 'seiner')"
      ]
     },
     "execution_count": 76,
     "metadata": {},
     "output_type": "execute_result"
    }
   ],
   "source": [
    "y_class, trainIndex['typing'][132759]"
   ]
  },
  {
   "cell_type": "code",
   "execution_count": 165,
   "metadata": {
    "collapsed": false,
    "deletable": true,
    "editable": true
   },
   "outputs": [
    {
     "data": {
      "image/png": "[encoded data removed]",
      "text/plain": [
       "<matplotlib.figure.Figure at 0x7f1c912838d0>"
      ]
     },
     "metadata": {},
     "output_type": "display_data"
    },
    {
     "data": {
      "image/png": "[encoded data removed]",
      "text/plain": [
       "<matplotlib.figure.Figure at 0x7f1c915d76d0>"
      ]
     },
     "metadata": {},
     "output_type": "display_data"
    },
    {
     "data": {
      "text/plain": [
       "2"
      ]
     },
     "execution_count": 165,
     "metadata": {},
     "output_type": "execute_result"
    }
   ],
   "source": [
    "ppred = pd.DataFrame()\n",
    "ppred['TrackNumber'] = train.TrackNumber\n",
    "ppred['pred_y'] = pred_y_softmax\n",
    "ppred['true_y'] = train.y\n",
    "\n",
    "\n",
    "g0pred = ppred.groupby(['TrackNumber','pred_y']).agg(['count'])\n",
    "g1pred = ppred.groupby(['TrackNumber']).agg(['count']); g1pred\n",
    "g0pred['pr'] = np.round(g0pred.true_y/g1pred.true_y,2)\n",
    "g2pred = g0pred.reset_index()\n",
    "g2pred = g2pred.pr.groupby(g2pred.TrackNumber).max()\n",
    "plt.hist(g0pred.pr,bins=75); plt.show()\n",
    "plt.hist(g2pred,bins=75); plt.show()\n",
    "#g0pred\n",
    "g2pred.head()\n",
    "len(g2pred[g2pred<0.60])"
   ]
  },
  {
   "cell_type": "code",
   "execution_count": null,
   "metadata": {
    "collapsed": true,
    "deletable": true,
    "editable": true
   },
   "outputs": [],
   "source": [
    "#Построение train-решения через probs\n",
    "\n",
    "g100     = pd.DataFrame(pred_y, columns=['0','1','2','3','4']); g100.head(), g100.columns\n",
    "g100pred = g100.groupby(ppred.TrackNumber).sum(); g100pred.head()\n",
    "temp     = g100pred.sum(axis=1); temp.shape #, g100pred.shape; g100pred,temp.head()\n",
    "for nn in g100pred.columns : g100pred[nn] = np.round(g100pred[nn]/temp,6); \n",
    "g100pred.head()"
   ]
  },
  {
   "cell_type": "code",
   "execution_count": null,
   "metadata": {
    "collapsed": true
   },
   "outputs": [],
   "source": []
  },
  {
   "cell_type": "code",
   "execution_count": null,
   "metadata": {
    "collapsed": true
   },
   "outputs": [],
   "source": []
  },
  {
   "cell_type": "code",
   "execution_count": null,
   "metadata": {
    "collapsed": true
   },
   "outputs": [],
   "source": []
  },
  {
   "cell_type": "code",
   "execution_count": 78,
   "metadata": {
    "collapsed": true,
    "deletable": true,
    "editable": true
   },
   "outputs": [],
   "source": [
    "# Готовим решение по test"
   ]
  },
  {
   "cell_type": "code",
   "execution_count": 54,
   "metadata": {
    "collapsed": false,
    "deletable": true,
    "editable": true
   },
   "outputs": [
    {
     "name": "stdout",
     "output_type": "stream",
     "text": [
      "(6586899, 20)\n"
     ]
    }
   ],
   "source": [
    "for ii,ffile in enumerate((test_list['trackfile'].values.tolist())): # [:10]) :\n",
    "    xx = pd.read_csv(os.path.join('../Data/VesselTracks',str(ffile)+'.csv'))\n",
    "    xx['Time']  = xx[[1]]\n",
    "    xx['sTime'] = np.abs(xx.Time.diff(-1)).fillna(0.0)\n",
    "    xx['hTime'] = xx.sTime/3600.0\n",
    "    xx['Depth'] = xx[[5]]\n",
    "    \n",
    "    havLa       = (0.5*(1.0-np.cos(-xx.Latitude.diff(-1)/180.0*math.pi))).fillna(0.0)\n",
    "    havLo       = (0.5*(1.0-np.cos(-xx.Longitude.diff(-1)/180.0*math.pi))).fillna(0.0)\n",
    "    \n",
    "    cosLa       = (np.cos(xx.Latitude/180.0*math.pi)).fillna(0.0)\n",
    "    \n",
    "    hav         = (havLa+cosLa*cosLa.shift(-1)*havLo).fillna(0.0)\n",
    "    dist = (2*6371.0*np.arcsin(np.sqrt(hav))).fillna(0.0)\n",
    "    \n",
    "    xx['Distance'] = dist\n",
    "    xx['Speed']    = (dist/1.852/xx.hTime).fillna(0.0)\n",
    "    \n",
    "    xx = xx.fillna(0.0)\n",
    "    \n",
    "    if (ii==0) : testAll = xx.copy()\n",
    "    else : testAll = testAll.append(xx.copy())\n",
    "        \n",
    "print(testAll.shape)"
   ]
  },
  {
   "cell_type": "code",
   "execution_count": 55,
   "metadata": {
    "collapsed": false,
    "deletable": true,
    "editable": true
   },
   "outputs": [],
   "source": [
    "#testAll.to_csv('../Data/testingAll.csv',index=False)"
   ]
  },
  {
   "cell_type": "code",
   "execution_count": 56,
   "metadata": {
    "collapsed": true,
    "deletable": true,
    "editable": true
   },
   "outputs": [],
   "source": [
    "#testAll = pd.read_csv('../Data/testingAll.csv')"
   ]
  },
  {
   "cell_type": "code",
   "execution_count": 57,
   "metadata": {
    "collapsed": false,
    "deletable": true,
    "editable": true
   },
   "outputs": [
    {
     "name": "stdout",
     "output_type": "stream",
     "text": [
      "(Speed    22447\n",
      "dtype: int64, 2845209)\n"
     ]
    }
   ],
   "source": [
    "#testWeights = dataClean(testAll)"
   ]
  },
  {
   "cell_type": "code",
   "execution_count": 168,
   "metadata": {
    "collapsed": false,
    "deletable": true,
    "editable": true
   },
   "outputs": [
    {
     "name": "stdout",
     "output_type": "stream",
     "text": [
      "total 89\n",
      "drwxrwxrwx 1 boba boba  4096 сен  1 21:36 .\n",
      "drwxrwxrwx 1 boba boba  4096 сен  1 16:12 ..\n",
      "drwxrwxrwx 1 boba boba     0 сен  1 21:36 Best\n",
      "-rwxrwxrwx 1 boba boba 80481 сен  2 14:18 bobaFish.csv\n",
      "-rwxrwxrwx 1 boba boba   413 сен  1 16:53 FishingForFishermen2.java\n",
      "drwxrwxrwx 1 boba boba     0 сен  1 16:36 .ipynb_checkpoints\n",
      "total 2118448\n",
      "drwxrwxrwx 1 boba boba       4096 сен  1 15:28 .\n",
      "drwxrwxrwx 1 boba boba       4096 сен  1 16:12 ..\n",
      "-rwxrwxrwx 1 boba boba  973453918 сен  2 02:54 testingAll.csv\n",
      "-rwxrwxrwx 1 boba boba       8477 авг 25 23:42 testing.txt\n",
      "-rwxrwxrwx 1 boba boba 1195264916 сен  2 01:53 trainingAll.csv\n",
      "-rwxrwxrwx 1 boba boba      18151 авг 25 23:40 training.txt\n",
      "drwxrwxrwx 1 boba boba     528384 авг 26 00:37 VesselTracks\n"
     ]
    },
    {
     "data": {
      "text/plain": [
       "(6586899, 20)"
      ]
     },
     "execution_count": 168,
     "metadata": {},
     "output_type": "execute_result"
    }
   ],
   "source": [
    "!ls -la ../Result\n",
    "!ls -la ../Data\n",
    "testAll.shape"
   ]
  },
  {
   "cell_type": "code",
   "execution_count": 170,
   "metadata": {
    "collapsed": false,
    "deletable": true,
    "editable": true
   },
   "outputs": [
    {
     "data": {
      "text/plain": [
       "(6586899, 17)"
      ]
     },
     "execution_count": 170,
     "metadata": {},
     "output_type": "execute_result"
    }
   ],
   "source": [
    "test_x = testAll.drop(['TrackNumber','Time','Time(seconds)'],axis=1)  #[:1000000]\n",
    "mtest  = xgb.DMatrix(test_x)\n",
    "test_x.shape"
   ]
  },
  {
   "cell_type": "code",
   "execution_count": 171,
   "metadata": {
    "collapsed": false,
    "deletable": true,
    "editable": true
   },
   "outputs": [],
   "source": [
    "test_y = xgbmodel.predict(mtest); ##pred_y[-20:],pred_y.max()"
   ]
  },
  {
   "cell_type": "code",
   "execution_count": 172,
   "metadata": {
    "collapsed": false,
    "deletable": true,
    "editable": true
   },
   "outputs": [
    {
     "data": {
      "text/plain": [
       "(6586899,)"
      ]
     },
     "execution_count": 172,
     "metadata": {},
     "output_type": "execute_result"
    }
   ],
   "source": [
    "test_y_softmax = test_y.argmax(axis=1); test_y_softmax.shape"
   ]
  },
  {
   "cell_type": "code",
   "execution_count": 173,
   "metadata": {
    "collapsed": false,
    "deletable": true,
    "editable": true,
    "scrolled": false
   },
   "outputs": [
    {
     "name": "stdout",
     "output_type": "stream",
     "text": [
      "   TrackNumber  pred_y\n",
      "0       100015       2\n",
      "1       100015       1\n",
      "2       100015       1\n",
      "3       100015       1\n",
      "4       100015       2\n",
      "('Common result \\n',    TrackNumber  pred_y      pr\n",
      "0       100015       0  0.0339\n",
      "1       100015       1  0.8256\n",
      "2       100015       2  0.1393\n",
      "3       100015       3  0.0013\n",
      "4       100045       0  1.0000)\n",
      "Only result pred = 1.0 \n",
      "   TrackNumber  pred_y   pr\n",
      "0       100015       1  1.0\n",
      "1       100045       0  1.0\n",
      "2       100060       1  1.0\n",
      "3       100112       0  1.0\n",
      "4       100131       0  1.0\n",
      "                        sTime     sTimeX     ssTime       prS       prX  \\\n",
      "TrackNumber pred_y                                                        \n",
      "100015      0        879459.0  1088150.0   983804.5  0.111044  0.137394   \n",
      "            1       6180731.0  6214460.0  6197595.5  0.780405  0.784664   \n",
      "            2        748630.0   543934.0   646282.0  0.094525  0.068679   \n",
      "            3        111079.0    73355.0    92217.0  0.014025  0.009262   \n",
      "100045      0       7948110.0  7948110.0  7948110.0  1.000000  1.000000   \n",
      "100060      0        887733.0   574914.0   731323.5  0.129651  0.083965   \n",
      "            1       5805728.0  5927767.0  5866747.5  0.847911  0.865734   \n",
      "            2        153103.0   344089.0   248596.0  0.022360  0.050253   \n",
      "            4           533.0      327.0      430.0  0.000078  0.000048   \n",
      "100112      0       6556173.0  6556173.0  6556173.0  1.000000  1.000000   \n",
      "100131      0       5756555.0  5895631.0  5826093.0  0.736337  0.754126   \n",
      "            1        367590.0   368736.0   368163.0  0.047019  0.047166   \n",
      "            3       1693684.0  1553462.0  1623573.0  0.216644  0.198708   \n",
      "100150      1       7078776.0  7150286.0  7114531.0  0.895176  0.904219   \n",
      "            2        614548.0   616363.0   615455.5  0.077715  0.077945   \n",
      "            3         28380.0     1360.0    14870.0  0.003589  0.000172   \n",
      "            4        185988.0   139683.0   162835.5  0.023520  0.017664   \n",
      "100151      0       2959116.0  2948033.0  2953574.5  0.372304  0.370910   \n",
      "            1         85286.0   115253.0   100269.5  0.010730  0.014501   \n",
      "            2        153707.0   160338.0   157022.5  0.019339  0.020173   \n",
      "\n",
      "                        prSX        pr  \n",
      "TrackNumber pred_y                      \n",
      "100015      0       0.124219  0.124219  \n",
      "            1       0.782535  0.782535  \n",
      "            2       0.081602  0.081602  \n",
      "            3       0.011644  0.011644  \n",
      "100045      0       1.000000  1.000000  \n",
      "100060      0       0.106808  0.106808  \n",
      "            1       0.856823  0.856823  \n",
      "            2       0.036307  0.036307  \n",
      "            4       0.000063  0.000063  \n",
      "100112      0       1.000000  1.000000  \n",
      "100131      0       0.745232  0.745232  \n",
      "            1       0.047093  0.047093  \n",
      "            3       0.207676  0.207676  \n",
      "100150      1       0.899698  0.899698  \n",
      "            2       0.077830  0.077830  \n",
      "            3       0.001880  0.001880  \n",
      "            4       0.020592  0.020592  \n",
      "100151      0       0.371607  0.371607  \n",
      "            1       0.012616  0.012616  \n",
      "            2       0.019756  0.019756  \n"
     ]
    },
    {
     "data": {
      "image/png": "[encoded data removed]",
      "text/plain": [
       "<matplotlib.figure.Figure at 0x7f1c912d3a50>"
      ]
     },
     "metadata": {},
     "output_type": "display_data"
    },
    {
     "data": {
      "image/png": "[encoded data removed]",
      "text/plain": [
       "<matplotlib.figure.Figure at 0x7f1c911e5250>"
      ]
     },
     "metadata": {},
     "output_type": "display_data"
    },
    {
     "data": {
      "image/png": "[encoded data removed]",
      "text/plain": [
       "<matplotlib.figure.Figure at 0x7f1c8d7c3850>"
      ]
     },
     "metadata": {},
     "output_type": "display_data"
    },
    {
     "data": {
      "image/png": "[encoded data removed]",
      "text/plain": [
       "<matplotlib.figure.Figure at 0x7f1c915eae10>"
      ]
     },
     "metadata": {},
     "output_type": "display_data"
    },
    {
     "name": "stdout",
     "output_type": "stream",
     "text": [
      "181 0.0 1.0 0.0 1.0 1e-06 1.0\n"
     ]
    }
   ],
   "source": [
    "# Распределение результата test\n",
    "ppred = pd.DataFrame()\n",
    "ppred['TrackNumber'] = testAll.TrackNumber\n",
    "ppred['pred_y'] = np.array(test_y_softmax,dtype=np.uint8)\n",
    "print(ppred.head())\n",
    "\n",
    "tySize = ppred.groupby(['TrackNumber','pred_y']).size();\n",
    "tSize  = ppred.groupby(['TrackNumber']).size();\n",
    "\n",
    "g0pred = pd.DataFrame(np.round(tySize/tSize,4)).reset_index()   # common result table [Track#, pred#, prob]\n",
    "g0pred.columns=['TrackNumber','pred_y','pr']\n",
    "\n",
    "print('Common result \\n',g0pred.head())\n",
    "\n",
    "ggmax, g4pred = [], g0pred.groupby('TrackNumber')\n",
    "\n",
    "for tt in g0pred.TrackNumber.unique().tolist() :\n",
    "    aa = g4pred.get_group(tt)\n",
    "    ggmax.append(aa.pred_y[aa.pr.argmax()])\n",
    "\n",
    "##print(len(ggmax),ggmax[:40])\n",
    "\n",
    "g1pred = pd.DataFrame(g0pred.TrackNumber.unique())   # table only one max result for Track# [Track#, pred#, prob]\n",
    "g1pred['pred_y'] = np.array(ggmax)\n",
    "g1pred['pr']     = 1.0\n",
    "g1pred.columns=['TrackNumber','pred_y','pr']\n",
    "\n",
    "print 'Only result pred = 1.0 \\n',g1pred.head()\n",
    "\n",
    "g2pred = ppred.copy()\n",
    "g2pred['sTime']  = testAll.sTime\n",
    "g2pred['sTimeX'] = testAll.sTime.shift()\n",
    "g2pred = g2pred.fillna(0)\n",
    "\n",
    "g2pred = g2pred.groupby(['TrackNumber','pred_y']).sum();\n",
    "g2pred['ssTime'] = (g2pred.sTime+g2pred.sTimeX)*0.5\n",
    "ttSize = g2pred.reset_index().groupby(['TrackNumber']).sum();\n",
    "g2pred['prS']  = np.round(g2pred.sTime/ttSize.sTime,6)\n",
    "g2pred['prX']  = np.round(g2pred.sTimeX/ttSize.sTimeX,6)\n",
    "g2pred['prSX'] = np.round(g2pred.ssTime/ttSize.ssTime,6)\n",
    "g2pred['pr']   = g2pred.prSX\n",
    "\n",
    "print g2pred.head(20)\n",
    "\n",
    "\n",
    "\n",
    "\n",
    "g3pred = g0pred.pr.groupby(g0pred.TrackNumber).max()            # max pr for each Track#\n",
    "g3pred = g2pred.reset_index().prSX.groupby(g2pred.reset_index().TrackNumber).max()            # max pr for each Track#\n",
    "\n",
    "plt.figure(figsize=(12,5)); plt.hist(g0pred.pr,bins=150); plt.show()\n",
    "plt.figure(figsize=(12,5)); plt.hist(g2pred.prSX,bins=150); plt.show()\n",
    "\n",
    "g3pred = g0pred.pr.groupby(g0pred.TrackNumber).max()            # max pr for each Track#\n",
    "plt.figure(figsize=(12,5)); plt.hist(g3pred,bins=150); plt.show()\n",
    "g3pred = g2pred.reset_index().prSX.groupby(g2pred.reset_index().TrackNumber).max()            # max pr for each Track#\n",
    "plt.figure(figsize=(12,5)); plt.hist(g3pred,bins=150); plt.show()\n",
    "\n",
    "print len(g3pred[g3pred<0.60]), g2pred.prS.min(), g2pred.prS.max(), g2pred.prX.min(), g2pred.prX.max(), g2pred.prSX.min(), g2pred.prSX.max()"
   ]
  },
  {
   "cell_type": "code",
   "execution_count": null,
   "metadata": {
    "collapsed": true
   },
   "outputs": [],
   "source": []
  },
  {
   "cell_type": "code",
   "execution_count": 204,
   "metadata": {
    "collapsed": false
   },
   "outputs": [
    {
     "data": {
      "text/html": [
       "<div>\n",
       "<table border=\"1\" class=\"dataframe\">\n",
       "  <thead>\n",
       "    <tr style=\"text-align: right;\">\n",
       "      <th></th>\n",
       "      <th>0</th>\n",
       "      <th>1</th>\n",
       "      <th>2</th>\n",
       "      <th>3</th>\n",
       "      <th>4</th>\n",
       "    </tr>\n",
       "    <tr>\n",
       "      <th>TrackNumber</th>\n",
       "      <th></th>\n",
       "      <th></th>\n",
       "      <th></th>\n",
       "      <th></th>\n",
       "      <th></th>\n",
       "    </tr>\n",
       "  </thead>\n",
       "  <tbody>\n",
       "    <tr>\n",
       "      <th>100015</th>\n",
       "      <td>0.000000</td>\n",
       "      <td>0.802923</td>\n",
       "      <td>0.197077</td>\n",
       "      <td>0.000000</td>\n",
       "      <td>0.000000</td>\n",
       "    </tr>\n",
       "    <tr>\n",
       "      <th>100045</th>\n",
       "      <td>1.000000</td>\n",
       "      <td>0.000000</td>\n",
       "      <td>0.000000</td>\n",
       "      <td>0.000000</td>\n",
       "      <td>0.000000</td>\n",
       "    </tr>\n",
       "    <tr>\n",
       "      <th>100060</th>\n",
       "      <td>0.054540</td>\n",
       "      <td>0.740550</td>\n",
       "      <td>0.204909</td>\n",
       "      <td>0.000000</td>\n",
       "      <td>0.000000</td>\n",
       "    </tr>\n",
       "    <tr>\n",
       "      <th>100112</th>\n",
       "      <td>1.000000</td>\n",
       "      <td>0.000000</td>\n",
       "      <td>0.000000</td>\n",
       "      <td>0.000000</td>\n",
       "      <td>0.000000</td>\n",
       "    </tr>\n",
       "    <tr>\n",
       "      <th>100131</th>\n",
       "      <td>0.752841</td>\n",
       "      <td>0.000000</td>\n",
       "      <td>0.000000</td>\n",
       "      <td>0.247159</td>\n",
       "      <td>0.000000</td>\n",
       "    </tr>\n",
       "    <tr>\n",
       "      <th>100150</th>\n",
       "      <td>0.000000</td>\n",
       "      <td>0.919286</td>\n",
       "      <td>0.080714</td>\n",
       "      <td>0.000000</td>\n",
       "      <td>0.000000</td>\n",
       "    </tr>\n",
       "    <tr>\n",
       "      <th>100151</th>\n",
       "      <td>0.080126</td>\n",
       "      <td>0.000000</td>\n",
       "      <td>0.000000</td>\n",
       "      <td>0.000000</td>\n",
       "      <td>0.919874</td>\n",
       "    </tr>\n",
       "    <tr>\n",
       "      <th>100215</th>\n",
       "      <td>0.258857</td>\n",
       "      <td>0.214153</td>\n",
       "      <td>0.526990</td>\n",
       "      <td>0.000000</td>\n",
       "      <td>0.000000</td>\n",
       "    </tr>\n",
       "    <tr>\n",
       "      <th>100221</th>\n",
       "      <td>1.000000</td>\n",
       "      <td>0.000000</td>\n",
       "      <td>0.000000</td>\n",
       "      <td>0.000000</td>\n",
       "      <td>0.000000</td>\n",
       "    </tr>\n",
       "    <tr>\n",
       "      <th>100227</th>\n",
       "      <td>1.000000</td>\n",
       "      <td>0.000000</td>\n",
       "      <td>0.000000</td>\n",
       "      <td>0.000000</td>\n",
       "      <td>0.000000</td>\n",
       "    </tr>\n",
       "    <tr>\n",
       "      <th>100243</th>\n",
       "      <td>0.841174</td>\n",
       "      <td>0.000000</td>\n",
       "      <td>0.158826</td>\n",
       "      <td>0.000000</td>\n",
       "      <td>0.000000</td>\n",
       "    </tr>\n",
       "    <tr>\n",
       "      <th>100292</th>\n",
       "      <td>0.000000</td>\n",
       "      <td>0.405758</td>\n",
       "      <td>0.220382</td>\n",
       "      <td>0.074358</td>\n",
       "      <td>0.299502</td>\n",
       "    </tr>\n",
       "    <tr>\n",
       "      <th>100299</th>\n",
       "      <td>1.000000</td>\n",
       "      <td>0.000000</td>\n",
       "      <td>0.000000</td>\n",
       "      <td>0.000000</td>\n",
       "      <td>0.000000</td>\n",
       "    </tr>\n",
       "    <tr>\n",
       "      <th>100332</th>\n",
       "      <td>1.000000</td>\n",
       "      <td>0.000000</td>\n",
       "      <td>0.000000</td>\n",
       "      <td>0.000000</td>\n",
       "      <td>0.000000</td>\n",
       "    </tr>\n",
       "    <tr>\n",
       "      <th>100371</th>\n",
       "      <td>0.867782</td>\n",
       "      <td>0.000000</td>\n",
       "      <td>0.132218</td>\n",
       "      <td>0.000000</td>\n",
       "      <td>0.000000</td>\n",
       "    </tr>\n",
       "  </tbody>\n",
       "</table>\n",
       "</div>"
      ],
      "text/plain": [
       "                    0         1         2         3         4\n",
       "TrackNumber                                                  \n",
       "100015       0.000000  0.802923  0.197077  0.000000  0.000000\n",
       "100045       1.000000  0.000000  0.000000  0.000000  0.000000\n",
       "100060       0.054540  0.740550  0.204909  0.000000  0.000000\n",
       "100112       1.000000  0.000000  0.000000  0.000000  0.000000\n",
       "100131       0.752841  0.000000  0.000000  0.247159  0.000000\n",
       "100150       0.000000  0.919286  0.080714  0.000000  0.000000\n",
       "100151       0.080126  0.000000  0.000000  0.000000  0.919874\n",
       "100215       0.258857  0.214153  0.526990  0.000000  0.000000\n",
       "100221       1.000000  0.000000  0.000000  0.000000  0.000000\n",
       "100227       1.000000  0.000000  0.000000  0.000000  0.000000\n",
       "100243       0.841174  0.000000  0.158826  0.000000  0.000000\n",
       "100292       0.000000  0.405758  0.220382  0.074358  0.299502\n",
       "100299       1.000000  0.000000  0.000000  0.000000  0.000000\n",
       "100332       1.000000  0.000000  0.000000  0.000000  0.000000\n",
       "100371       0.867782  0.000000  0.132218  0.000000  0.000000"
      ]
     },
     "execution_count": 204,
     "metadata": {},
     "output_type": "execute_result"
    }
   ],
   "source": [
    "#Построение решение через probs\n",
    "\n",
    "g100     = pd.DataFrame(test_y, columns=['0','1','2','3','4']); g100.head(), g100.columns\n",
    "g100pred = g100.groupby(ppred.TrackNumber).sum(); g100pred.head()\n",
    "temp     = g100pred.sum(axis=1); temp.shape #, g100pred.shape; g100pred,temp.head()\n",
    "for nn in g100pred.columns : g100pred[nn] = np.round(g100pred[nn]/temp,6);\n",
    "if 1 :\n",
    "    for nn in g100pred.columns : g100pred[nn][g100pred[nn]<=0.05] = 0.0;\n",
    "    temp     = g100pred.sum(axis=1); temp.shape #, g100pred.shape; g100pred,temp.head()\n",
    "    for nn in g100pred.columns : g100pred[nn] = np.round(g100pred[nn]/temp,6);\n",
    "\n",
    "g100pred.head(15)"
   ]
  },
  {
   "cell_type": "code",
   "execution_count": 259,
   "metadata": {
    "collapsed": false
   },
   "outputs": [
    {
     "data": {
      "text/plain": [
       "(    TrackNumber  pred_y        pr\n",
       " 0        100015       0  0.138983\n",
       " 1        100015       1  0.737630\n",
       " 2        100015       2  0.123387\n",
       " 3        100045       0  1.000000\n",
       " 4        100060       0  0.111899\n",
       " 5        100060       1  0.816333\n",
       " 6        100060       2  0.071768\n",
       " 7        100112       0  1.000000\n",
       " 8        100131       0  0.787418\n",
       " 9        100131       3  0.212582\n",
       " 10       100150       1  0.911361\n",
       " 11       100150       2  0.088639\n",
       " 12       100151       0  0.384519\n",
       " 13       100151       4  0.615481\n",
       " 14       100215       0  0.189052\n",
       " 15       100215       2  0.810948\n",
       " 16       100221       0  1.000000\n",
       " 17       100227       0  1.000000\n",
       " 18       100243       0  0.809700\n",
       " 19       100243       2  0.190300, dtype('int64'))"
      ]
     },
     "execution_count": 259,
     "metadata": {},
     "output_type": "execute_result"
    }
   ],
   "source": [
    "g110     = pd.DataFrame(test_y)\n",
    "for nn in g110.columns : g110[nn] = np.round(g110[nn]*0.5*(testAll.sTime+testAll.sTime.shift().fillna(0.0)),6);\n",
    "    \n",
    "g110pred = g110.groupby(ppred.TrackNumber).sum(); g110pred.head()\n",
    "temp     = g110pred.sum(axis=1); temp.shape #, g110pred.shape; g110pred,temp.head()\n",
    "for nn in g110pred.columns : g110pred[nn] = np.round(g110pred[nn]/temp,6);\n",
    "if 1 :\n",
    "    for nn in g110pred.columns : g110pred[nn][g110pred[nn]<=0.05] = 0.0;\n",
    "    temp     = g110pred.sum(axis=1); temp.shape #, g110pred.shape; g110pred,temp.head()\n",
    "    for nn in g110pred.columns : g110pred[nn] = np.round(g110pred[nn]/temp,6);\n",
    "\n",
    "g110pred.head(15)\n",
    "\n",
    "temp = g110pred.stack()\n",
    "temp = temp[temp>0.0]\n",
    "g110pred = pd.DataFrame(temp.reset_index());\n",
    "g110pred.columns=['TrackNumber','pred_y','pr']\n",
    "del temp\n",
    "g110pred.head(20), g110pred.pred_y.dtype"
   ]
  },
  {
   "cell_type": "code",
   "execution_count": 260,
   "metadata": {
    "collapsed": false
   },
   "outputs": [
    {
     "name": "stdout",
     "output_type": "stream",
     "text": [
      "    TrackNumber FishingType        pr\n",
      "0        100015     trawler  0.138983\n",
      "1        100015   longliner  0.737630\n",
      "2        100015      seiner  0.123387\n",
      "3        100045     trawler  1.000000\n",
      "4        100060     trawler  0.111899\n",
      "5        100060   longliner  0.816333\n",
      "6        100060      seiner  0.071768\n",
      "7        100112     trawler  1.000000\n",
      "8        100131     trawler  0.787418\n",
      "9        100131       other  0.212582\n",
      "10       100150   longliner  0.911361\n",
      "11       100150      seiner  0.088639\n",
      "12       100151     trawler  0.384519\n",
      "13       100151     support  0.615481\n",
      "14       100215     trawler  0.189052\n"
     ]
    }
   ],
   "source": [
    "#\n",
    "# Построение решения из softProbs взвешенное временем до-после точки --> 874xxx\n",
    "#\n",
    "test_r = g110pred.copy()\n",
    "##print(test_r.pred_y.values.tolist())\n",
    "test_r['FishingType'] = np.array([y_class[x] for x in test_r.pred_y.values.tolist()])\n",
    "print(test_r[['TrackNumber','FishingType','pr']].head(15))\n",
    "test_r[['TrackNumber','FishingType','pr']].to_csv('../Result/bobaFish.csv',index=False,header=False)"
   ]
  },
  {
   "cell_type": "code",
   "execution_count": 84,
   "metadata": {
    "collapsed": false,
    "deletable": true,
    "editable": true
   },
   "outputs": [
    {
     "name": "stdout",
     "output_type": "stream",
     "text": [
      "    TrackNumber FishingType      pr\n",
      "0        100015     trawler  0.0376\n",
      "1        100015   longliner  0.8243\n",
      "2        100015      seiner  0.1368\n",
      "3        100015       other  0.0013\n",
      "4        100045     trawler  1.0000\n",
      "5        100060     trawler  0.0532\n",
      "6        100060   longliner  0.7423\n",
      "7        100060      seiner  0.2039\n",
      "8        100060     support  0.0005\n",
      "9        100112     trawler  1.0000\n",
      "10       100131     trawler  0.8094\n",
      "11       100131   longliner  0.0029\n",
      "12       100131       other  0.1877\n",
      "13       100150   longliner  0.9298\n",
      "14       100150      seiner  0.0642\n"
     ]
    }
   ],
   "source": [
    "g0pred.head()\n",
    "test_r = g0pred.copy()\n",
    "##print(test_r.pred_y.values.tolist())\n",
    "test_r['FishingType'] = np.array([y_class[x] for x in test_r.pred_y.values.tolist()])\n",
    "print(test_r[['TrackNumber','FishingType','pr']].head(15))\n",
    "test_r[['TrackNumber','FishingType','pr']].to_csv('../Result/bobaFish.csv',index=False,header=False)"
   ]
  },
  {
   "cell_type": "code",
   "execution_count": 112,
   "metadata": {
    "collapsed": false,
    "deletable": true,
    "editable": true
   },
   "outputs": [
    {
     "name": "stdout",
     "output_type": "stream",
     "text": [
      "    TrackNumber FishingType        pr\n",
      "0        100015     trawler  0.123381\n",
      "1        100015   longliner  0.796768\n",
      "2        100015      seiner  0.068208\n",
      "3        100015       other  0.011644\n",
      "4        100045     trawler  1.000000\n",
      "5        100060     trawler  0.111688\n",
      "6        100060   longliner  0.816666\n",
      "7        100060      seiner  0.071583\n",
      "8        100060     support  0.000063\n",
      "9        100112     trawler  1.000000\n",
      "10       100131     trawler  0.798129\n",
      "11       100131   longliner  0.047469\n",
      "12       100131       other  0.154402\n",
      "13       100150   longliner  0.917904\n",
      "14       100150      seiner  0.074431\n",
      "15       100150     support  0.007665\n",
      "16       100151     trawler  0.371117\n",
      "17       100151   longliner  0.012507\n",
      "18       100151      seiner  0.019218\n",
      "19       100151     support  0.597159\n",
      "20       100215     trawler  0.026426\n",
      "21       100215   longliner  0.025318\n",
      "22       100215      seiner  0.948256\n",
      "23       100221     trawler  1.000000\n",
      "24       100227     trawler  0.999765\n"
     ]
    }
   ],
   "source": [
    "#\n",
    "#  2017-09-02 Взвешенная по времени нахождения около точки (+-) вероятности типов судов\n",
    "#  2017-09-02 +- хуже 886xxx -> 870xxx\n",
    "#\n",
    "g2pred.head()\n",
    "test_r = g2pred.reset_index().copy()\n",
    "test_r['pr'] = test_r.prSX\n",
    "##print(test_r.pred_y.values.tolist())\n",
    "test_r['FishingType'] = np.array([y_class[x] for x in test_r.pred_y.values.tolist()])\n",
    "print(test_r[['TrackNumber','FishingType','pr']].head(25))\n",
    "test_r[['TrackNumber','FishingType','pr']].to_csv('../Result/bobaFish.csv',index=False,header=False)"
   ]
  },
  {
   "cell_type": "code",
   "execution_count": 113,
   "metadata": {
    "collapsed": false,
    "deletable": true,
    "editable": true
   },
   "outputs": [
    {
     "name": "stdout",
     "output_type": "stream",
     "text": [
      "    TrackNumber FishingType        pr\n",
      "0        100015     trawler  0.101394\n",
      "1        100015   longliner  0.837527\n",
      "2        100015      seiner  0.051816\n",
      "3        100015       other  0.009262\n",
      "4        100045     trawler  1.000000\n",
      "5        100060     trawler  0.092662\n",
      "6        100060   longliner  0.848095\n",
      "7        100060      seiner  0.059195\n",
      "8        100060     support  0.000048\n",
      "9        100112     trawler  1.000000\n",
      "10       100131     trawler  0.798759\n",
      "11       100131   longliner  0.047166\n",
      "12       100131       other  0.154074\n",
      "13       100150   longliner  0.917502\n",
      "14       100150      seiner  0.075145\n",
      "15       100150     support  0.007353\n",
      "16       100151     trawler  0.370181\n",
      "17       100151   longliner  0.014386\n",
      "18       100151      seiner  0.019686\n",
      "19       100151     support  0.595747\n",
      "20       100215     trawler  0.048802\n",
      "21       100215   longliner  0.002205\n",
      "22       100215      seiner  0.948993\n",
      "23       100221     trawler  1.000000\n",
      "24       100227     trawler  0.999768\n"
     ]
    }
   ],
   "source": [
    "#\n",
    "#  2017-09-02 Взвешенная по времени нахождения около точки (- предыдущее время) вероятности типов судов\n",
    "#  2017-09-02 - 870xxx->863xxx\n",
    "#\n",
    "g2pred.head()\n",
    "test_r = g2pred.reset_index().copy()\n",
    "test_r['pr'] = test_r.prX\n",
    "##print(test_r.pred_y.values.tolist())\n",
    "test_r['FishingType'] = np.array([y_class[x] for x in test_r.pred_y.values.tolist()])\n",
    "print(test_r[['TrackNumber','FishingType','pr']].head(25))\n",
    "test_r[['TrackNumber','FishingType','pr']].to_csv('../Result/bobaFish.csv',index=False,header=False)"
   ]
  },
  {
   "cell_type": "code",
   "execution_count": 373,
   "metadata": {
    "collapsed": false,
    "deletable": true,
    "editable": true
   },
   "outputs": [
    {
     "name": "stdout",
     "output_type": "stream",
     "text": [
      "   TrackNumber FishingType   pr\n",
      "0       100015   longliner  1.0\n",
      "1       100045     trawler  1.0\n",
      "2       100060   longliner  1.0\n",
      "3       100112     trawler  1.0\n",
      "4       100131     trawler  1.0\n"
     ]
    }
   ],
   "source": [
    "#  2017-09-01 Почему-то дает провал на 511650.89 с 890501, хотя не должна?\n",
    "# Only max predictions pr<-1.0\n",
    "g1pred.head()\n",
    "test_r = g1pred.copy()\n",
    "##print(test_r.pred_y.values.tolist())\n",
    "test_r['FishingType'] = np.array([y_class[x] for x in test_r.pred_y.values.tolist()])\n",
    "print(test_r[['TrackNumber','FishingType','pr']].head())\n",
    "##test_r[['TrackNumber','FishingType','pr']].to_csv('../Result/bobaFish.csv',index=False,header=False)"
   ]
  },
  {
   "cell_type": "code",
   "execution_count": null,
   "metadata": {
    "collapsed": true,
    "deletable": true,
    "editable": true
   },
   "outputs": [],
   "source": []
  }
 ],
 "metadata": {
  "kernelspec": {
   "display_name": "Python 2",
   "language": "python",
   "name": "python2"
  }
 },
 "nbformat": 4,
 "nbformat_minor": 2
}
