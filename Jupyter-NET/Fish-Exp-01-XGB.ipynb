{
 "cells": [
  {
   "cell_type": "code",
   "execution_count": null,
   "metadata": {
    "collapsed": true,
    "deletable": true,
    "editable": true
   },
   "outputs": [],
   "source": []
  },
  {
   "cell_type": "code",
   "execution_count": 1,
   "metadata": {
    "collapsed": true,
    "deletable": true,
    "editable": true
   },
   "outputs": [],
   "source": [
    "import sys, os, math\n",
    "import numpy  as np\n",
    "import pandas as pd\n",
    "import matplotlib.pyplot as plt\n"
   ]
  },
  {
   "cell_type": "code",
   "execution_count": null,
   "metadata": {
    "collapsed": true,
    "deletable": true,
    "editable": true
   },
   "outputs": [],
   "source": []
  },
  {
   "cell_type": "code",
   "execution_count": 2,
   "metadata": {
    "collapsed": false,
    "deletable": true,
    "editable": true
   },
   "outputs": [],
   "source": [
    "train_list = pd.read_csv('../Data/training.txt', header=None)\n",
    "train_list.columns=['trackfile','typing']"
   ]
  },
  {
   "cell_type": "code",
   "execution_count": 3,
   "metadata": {
    "collapsed": false,
    "deletable": true,
    "editable": true
   },
   "outputs": [
    {
     "data": {
      "text/html": [
       "<div>\n",
       "<table border=\"1\" class=\"dataframe\">\n",
       "  <thead>\n",
       "    <tr style=\"text-align: right;\">\n",
       "      <th></th>\n",
       "      <th>trackfile</th>\n",
       "      <th>typing</th>\n",
       "    </tr>\n",
       "  </thead>\n",
       "  <tbody>\n",
       "    <tr>\n",
       "      <th>0</th>\n",
       "      <td>100047</td>\n",
       "      <td>trawler</td>\n",
       "    </tr>\n",
       "    <tr>\n",
       "      <th>1</th>\n",
       "      <td>100070</td>\n",
       "      <td>longliner</td>\n",
       "    </tr>\n",
       "    <tr>\n",
       "      <th>2</th>\n",
       "      <td>100080</td>\n",
       "      <td>seiner</td>\n",
       "    </tr>\n",
       "    <tr>\n",
       "      <th>3</th>\n",
       "      <td>100093</td>\n",
       "      <td>other</td>\n",
       "    </tr>\n",
       "    <tr>\n",
       "      <th>4</th>\n",
       "      <td>100144</td>\n",
       "      <td>trawler</td>\n",
       "    </tr>\n",
       "  </tbody>\n",
       "</table>\n",
       "</div>"
      ],
      "text/plain": [
       "   trackfile     typing\n",
       "0     100047    trawler\n",
       "1     100070  longliner\n",
       "2     100080     seiner\n",
       "3     100093      other\n",
       "4     100144    trawler"
      ]
     },
     "execution_count": 3,
     "metadata": {},
     "output_type": "execute_result"
    }
   ],
   "source": [
    "train_list.head()"
   ]
  },
  {
   "cell_type": "code",
   "execution_count": 4,
   "metadata": {
    "collapsed": false,
    "deletable": true,
    "editable": true
   },
   "outputs": [
    {
     "data": {
      "text/plain": [
       "['trawler', 'longliner', 'seiner', 'other', 'support']"
      ]
     },
     "execution_count": 4,
     "metadata": {},
     "output_type": "execute_result"
    }
   ],
   "source": [
    "y_class = train_list['typing'].unique().tolist(); y_class"
   ]
  },
  {
   "cell_type": "code",
   "execution_count": 5,
   "metadata": {
    "collapsed": false,
    "deletable": true,
    "editable": true
   },
   "outputs": [
    {
     "data": {
      "text/plain": [
       "array([array([0, 1, 8]), array(['0', '1', '3'],\n",
       "      dtype='|S1'),\n",
       "       array([0])], dtype=object)"
      ]
     },
     "execution_count": 5,
     "metadata": {},
     "output_type": "execute_result"
    }
   ],
   "source": [
    "y1 = np.array([0,1,8])\n",
    "y2 = np.array(['0','1','3'])\n",
    "y3 = np.array([0])\n",
    "yy = np.empty(3,dtype=object)\n",
    "yy[0]=y1\n",
    "yy[1]=y2\n",
    "yy[2]=y3\n",
    "yy\n",
    "#yy[0] = ([0,1,2,3])"
   ]
  },
  {
   "cell_type": "code",
   "execution_count": 91,
   "metadata": {
    "collapsed": false,
    "deletable": true,
    "editable": true
   },
   "outputs": [],
   "source": [
    "max_features = 512\n",
    "\n",
    "ii, x_train, y_train = 0, np.empty((len(train_list)),dtype=object), []\n",
    "x_train = np.zeros((len(train_list),max_features))\n",
    "z_train = np.zeros((len(train_list),max_features))\n",
    "a_train = np.zeros((len(train_list),max_features))\n",
    "b_train = np.zeros((len(train_list),max_features))\n",
    "c_train = np.zeros((len(train_list),max_features))\n",
    "\n",
    "tt_len, tt_time = [], []\n",
    "\n",
    "for ii,ffile in enumerate((train_list['trackfile'].values.tolist())): # [:10]) :\n",
    "    xx = pd.read_csv(os.path.join('../Data/VesselTracks',str(ffile)+'.csv'))\n",
    "    xx['Time']  = xx[[1]]\n",
    "    xx['sTime'] = np.abs(xx.Time.diff(-1)).fillna(0.0)\n",
    "    xx['hTime'] = xx.sTime/3600.0\n",
    "    xx['Depth'] = xx[[5]]\n",
    "    \n",
    "    havLa       = (0.5*(1.0-np.cos(-xx.Latitude.diff(-1)/180.0*math.pi))).fillna(0.0)\n",
    "    havLo       = (0.5*(1.0-np.cos(-xx.Longitude.diff(-1)/180.0*math.pi))).fillna(0.0)\n",
    "    \n",
    "    cosLa       = (np.cos(xx.Latitude/180.0*math.pi)).fillna(0.0)\n",
    "    \n",
    "    hav         = (havLa+cosLa*cosLa.shift(-1)*havLo).fillna(0.0)\n",
    "    dist = (2*6371.0*np.arcsin(np.sqrt(hav))).fillna(0.0)\n",
    "    \n",
    "    xx['Distance'] = dist\n",
    "    xx['Speed']    = (dist/1.852/xx.hTime).fillna(0.0)\n",
    "    \n",
    "    if (ii==0) : trackAll = xx.copy()\n",
    "    else : trackAll = trackAll.append(xx.copy())\n",
    "        \n",
    "    ##print(len(xx),len(trackAll),trackAll.shape)\n",
    "    \n",
    "    if 0 : \n",
    "        #print('havLa',xx.havLa.values.tolist()[:10])\n",
    "        #print(xx.havLo.values.tolist()[:10])\n",
    "        #print(xx.cosLa.values.tolist()[:10])\n",
    "        #print(xx.cosLa.shift(-1).values.tolist()[:10])\n",
    "        #print('temp',temp.values.tolist()[-10:])\n",
    "        #print('dist0',dist0.values.tolist()[-10:])\n",
    "        print('dist',dist.values.tolist()[:20])\n",
    "        #print('speed',xx.Speed.values.tolist()[:20])\n",
    "        #print('SOG',xx.SOG.values.tolist()[-10:])\n",
    "        print('sTime',xx.sTime.values.tolist()[:20])\n",
    "        print('hTime',xx.hTime.values.tolist()[:20])\n",
    "        print(zip(xx.Speed,xx.SOG)[:20])\n",
    "    \n",
    "    \n",
    "    #xx['Distance'] = xx.sinLa*xx.sinLa.shift().fillna(0.0)+xx.cosLa*xx.cosLa.shift().fillna(0.0)*np.cos(xx.Longitude.diff().fillna(0)/180.0*math.pi).fillna(0.0)\n",
    "    #xx.Speed[xx.Speed>=200.0] = 0.0\n",
    "    \n",
    "    x_train[ii] = np.array((xx.sTime.values.tolist()+[0.0]*max_features)[:max_features])\n",
    "    z_train[ii] = np.array((xx.SOG.values.tolist()+[0.0]*max_features)[:max_features])\n",
    "    a_train[ii] = np.array((xx.Depth.values.tolist()+[0.0]*max_features)[:max_features])\n",
    "    b_train[ii] = np.array((xx.Speed.values.tolist()+[0.0]*max_features)[:max_features])\n",
    "    c_train[ii] = np.array((xx.Distance.values.tolist()+[0.0]*max_features)[:max_features])\n",
    "    \n",
    "    y1          = [0]*len(y_class);  \n",
    "    y1[y_class.index(train_list.typing[ii])] = 1;\n",
    "    y_train.append(y1)\n",
    "    \n",
    "    tt_len.append(len(xx))\n",
    "    tt_time.append(xx[[1]].max())\n",
    "    \n",
    "y_train = np.array(y_train)\n",
    "tt_len  = np.array(tt_len)\n",
    "tt_time = np.array(tt_time)\n",
    "\n",
    "#print(y_train,x_train)"
   ]
  },
  {
   "cell_type": "code",
   "execution_count": 92,
   "metadata": {
    "collapsed": false,
    "deletable": true,
    "editable": true
   },
   "outputs": [],
   "source": [
    "#trackAll.to_csv('../Data/trainingAll.csv',index=False)"
   ]
  },
  {
   "cell_type": "code",
   "execution_count": 6,
   "metadata": {
    "collapsed": true
   },
   "outputs": [],
   "source": [
    "trackAll = pd.read_csv('../Data/trainingAll.csv')"
   ]
  },
  {
   "cell_type": "code",
   "execution_count": null,
   "metadata": {
    "collapsed": false
   },
   "outputs": [],
   "source": []
  },
  {
   "cell_type": "code",
   "execution_count": 8,
   "metadata": {
    "collapsed": false,
    "deletable": true,
    "editable": true
   },
   "outputs": [
    {
     "name": "stdout",
     "output_type": "stream",
     "text": [
      "total 1167804\r\n",
      "drwxrwxrwx 1 boba boba        488 авг 31 23:56 .\r\n",
      "drwxrwxrwx 1 boba boba       4096 авг 31 04:17 ..\r\n",
      "-rwxrwxrwx 1 boba boba       8477 авг 25 23:42 testing.txt\r\n",
      "-rwxrwxrwx 1 boba boba 1195264916 сен  1 00:12 trainingAll.csv\r\n",
      "-rwxrwxrwx 1 boba boba      18151 авг 25 23:40 training.txt\r\n",
      "drwxrwxrwx 1 boba boba     528384 авг 26 00:37 VesselTracks\r\n"
     ]
    },
    {
     "data": {
      "text/plain": [
       "(8080623, 20)"
      ]
     },
     "execution_count": 8,
     "metadata": {},
     "output_type": "execute_result"
    }
   ],
   "source": [
    "!ls -la ../Data\n",
    "trackAll.shape"
   ]
  },
  {
   "cell_type": "code",
   "execution_count": 9,
   "metadata": {
    "collapsed": false,
    "deletable": true,
    "editable": true,
    "scrolled": true
   },
   "outputs": [
    {
     "data": {
      "image/png": "[encoded data removed]",
      "text/plain": [
       "<matplotlib.figure.Figure at 0x7f025ed62d90>"
      ]
     },
     "metadata": {},
     "output_type": "display_data"
    },
    {
     "data": {
      "text/html": [
       "<div>\n",
       "<table border=\"1\" class=\"dataframe\">\n",
       "  <thead>\n",
       "    <tr style=\"text-align: right;\">\n",
       "      <th></th>\n",
       "      <th>Chlorophyll Concentration</th>\n",
       "      <th>Depth</th>\n",
       "      <th>Distance</th>\n",
       "      <th>Eastward Water Velocity</th>\n",
       "      <th>Latitude</th>\n",
       "      <th>Longitude</th>\n",
       "      <th>Northward Water Velocity</th>\n",
       "      <th>Oceanic Depth</th>\n",
       "      <th>SOG</th>\n",
       "      <th>Salinity</th>\n",
       "      <th>Sea Temperature</th>\n",
       "      <th>Speed</th>\n",
       "      <th>Thermocline Depth</th>\n",
       "      <th>Time</th>\n",
       "      <th>Time(seconds)</th>\n",
       "      <th>TrackNumber</th>\n",
       "      <th>Water Surface Elevation</th>\n",
       "      <th>hTime</th>\n",
       "      <th>oceanic depth</th>\n",
       "      <th>sTime</th>\n",
       "    </tr>\n",
       "  </thead>\n",
       "  <tbody>\n",
       "    <tr>\n",
       "      <th>0</th>\n",
       "      <td>0.3105</td>\n",
       "      <td>-4</td>\n",
       "      <td>3.186329</td>\n",
       "      <td>0.06</td>\n",
       "      <td>41.101078</td>\n",
       "      <td>1.235355</td>\n",
       "      <td>0.01</td>\n",
       "      <td>NaN</td>\n",
       "      <td>7.4</td>\n",
       "      <td>34.3</td>\n",
       "      <td>10.7</td>\n",
       "      <td>6.652769</td>\n",
       "      <td>111.0</td>\n",
       "      <td>0</td>\n",
       "      <td>0</td>\n",
       "      <td>100047</td>\n",
       "      <td>-0.22</td>\n",
       "      <td>0.258611</td>\n",
       "      <td>-4.0</td>\n",
       "      <td>931.0</td>\n",
       "    </tr>\n",
       "    <tr>\n",
       "      <th>1</th>\n",
       "      <td>0.3043</td>\n",
       "      <td>-11</td>\n",
       "      <td>5.981159</td>\n",
       "      <td>0.06</td>\n",
       "      <td>41.074507</td>\n",
       "      <td>1.221120</td>\n",
       "      <td>0.02</td>\n",
       "      <td>NaN</td>\n",
       "      <td>5.1</td>\n",
       "      <td>34.3</td>\n",
       "      <td>10.7</td>\n",
       "      <td>9.012747</td>\n",
       "      <td>109.5</td>\n",
       "      <td>931</td>\n",
       "      <td>931</td>\n",
       "      <td>100047</td>\n",
       "      <td>-0.22</td>\n",
       "      <td>0.358333</td>\n",
       "      <td>-11.0</td>\n",
       "      <td>1290.0</td>\n",
       "    </tr>\n",
       "    <tr>\n",
       "      <th>2</th>\n",
       "      <td>0.3059</td>\n",
       "      <td>-16</td>\n",
       "      <td>8.779740</td>\n",
       "      <td>0.06</td>\n",
       "      <td>41.043652</td>\n",
       "      <td>1.279553</td>\n",
       "      <td>0.04</td>\n",
       "      <td>NaN</td>\n",
       "      <td>10.2</td>\n",
       "      <td>34.3</td>\n",
       "      <td>10.7</td>\n",
       "      <td>10.337037</td>\n",
       "      <td>117.4</td>\n",
       "      <td>2221</td>\n",
       "      <td>2221</td>\n",
       "      <td>100047</td>\n",
       "      <td>-0.23</td>\n",
       "      <td>0.458611</td>\n",
       "      <td>-16.0</td>\n",
       "      <td>1651.0</td>\n",
       "    </tr>\n",
       "    <tr>\n",
       "      <th>3</th>\n",
       "      <td>0.3674</td>\n",
       "      <td>-46</td>\n",
       "      <td>0.000000</td>\n",
       "      <td>0.08</td>\n",
       "      <td>40.998603</td>\n",
       "      <td>1.365502</td>\n",
       "      <td>0.07</td>\n",
       "      <td>NaN</td>\n",
       "      <td>10.5</td>\n",
       "      <td>34.3</td>\n",
       "      <td>10.6</td>\n",
       "      <td>0.000000</td>\n",
       "      <td>123.8</td>\n",
       "      <td>3872</td>\n",
       "      <td>3872</td>\n",
       "      <td>100047</td>\n",
       "      <td>-0.24</td>\n",
       "      <td>0.000278</td>\n",
       "      <td>-46.0</td>\n",
       "      <td>1.0</td>\n",
       "    </tr>\n",
       "    <tr>\n",
       "      <th>4</th>\n",
       "      <td>0.3674</td>\n",
       "      <td>-46</td>\n",
       "      <td>0.000095</td>\n",
       "      <td>0.08</td>\n",
       "      <td>40.998603</td>\n",
       "      <td>1.365502</td>\n",
       "      <td>0.07</td>\n",
       "      <td>NaN</td>\n",
       "      <td>10.5</td>\n",
       "      <td>34.3</td>\n",
       "      <td>10.6</td>\n",
       "      <td>0.046135</td>\n",
       "      <td>123.8</td>\n",
       "      <td>3873</td>\n",
       "      <td>3873</td>\n",
       "      <td>100047</td>\n",
       "      <td>-0.24</td>\n",
       "      <td>0.001111</td>\n",
       "      <td>-46.0</td>\n",
       "      <td>4.0</td>\n",
       "    </tr>\n",
       "  </tbody>\n",
       "</table>\n",
       "</div>"
      ],
      "text/plain": [
       "   Chlorophyll Concentration  Depth  Distance  Eastward Water Velocity  \\\n",
       "0                     0.3105     -4  3.186329                     0.06   \n",
       "1                     0.3043    -11  5.981159                     0.06   \n",
       "2                     0.3059    -16  8.779740                     0.06   \n",
       "3                     0.3674    -46  0.000000                     0.08   \n",
       "4                     0.3674    -46  0.000095                     0.08   \n",
       "\n",
       "    Latitude  Longitude  Northward Water Velocity  Oceanic Depth   SOG  \\\n",
       "0  41.101078   1.235355                      0.01            NaN   7.4   \n",
       "1  41.074507   1.221120                      0.02            NaN   5.1   \n",
       "2  41.043652   1.279553                      0.04            NaN  10.2   \n",
       "3  40.998603   1.365502                      0.07            NaN  10.5   \n",
       "4  40.998603   1.365502                      0.07            NaN  10.5   \n",
       "\n",
       "   Salinity  Sea Temperature      Speed  Thermocline Depth  Time  \\\n",
       "0      34.3             10.7   6.652769              111.0     0   \n",
       "1      34.3             10.7   9.012747              109.5   931   \n",
       "2      34.3             10.7  10.337037              117.4  2221   \n",
       "3      34.3             10.6   0.000000              123.8  3872   \n",
       "4      34.3             10.6   0.046135              123.8  3873   \n",
       "\n",
       "   Time(seconds)  TrackNumber  Water Surface Elevation     hTime  \\\n",
       "0              0       100047                    -0.22  0.258611   \n",
       "1            931       100047                    -0.22  0.358333   \n",
       "2           2221       100047                    -0.23  0.458611   \n",
       "3           3872       100047                    -0.24  0.000278   \n",
       "4           3873       100047                    -0.24  0.001111   \n",
       "\n",
       "   oceanic depth   sTime  \n",
       "0           -4.0   931.0  \n",
       "1          -11.0  1290.0  \n",
       "2          -16.0  1651.0  \n",
       "3          -46.0     1.0  \n",
       "4          -46.0     4.0  "
      ]
     },
     "execution_count": 9,
     "metadata": {},
     "output_type": "execute_result"
    }
   ],
   "source": [
    "if 0 :\n",
    "    trackAll.Latitude.sort_values().round().unique()\n",
    "    trackAll.Longitude.sort_values().round().unique()\n",
    "    trackAll.SOG.sort_values().round().unique()\n",
    "    trackAll.Speed.sort_values().round().unique()\n",
    "    trackAll.hTime.sort_values().round().unique()\n",
    "    trackAll.hTime.min(),trackAll.hTime.max()\n",
    "    trackAll.Depth.sort_values().round().unique()\n",
    "    #-------------------------------\n",
    "    plt.hist(trackAll.SOG[(trackAll.SOG>0) & (trackAll.SOG<30)],bins=50); plt.show()\n",
    "    plt.hist(trackAll.Speed[(trackAll.Speed>0) & (trackAll.Speed<30)],bins=50); plt.show()\n",
    "    temp = trackAll[(trackAll.Speed>0) & (trackAll.Speed<20) & (trackAll.SOG>0) & (trackAll.SOG<20)]\n",
    "    plt.hist(temp.SOG-temp.Speed,bins=100); plt.show()\n",
    "    #-------------------------------\n",
    "    len(trackAll.Speed[(trackAll.Speed<0) | (trackAll.Speed>40)]), len(trackAll.SOG[(trackAll.SOG<0) | (trackAll.SOG>40)])\n",
    "    \n",
    "    print(len(trackAll.Depth[trackAll.Depth<-1000]),len(trackAll.Depth[trackAll.Depth>100]))\n",
    "    plt.hist(trackAll.Depth[trackAll.Depth>0],bins=150); plt.show()\n",
    "    trackAll.TrackNumber[trackAll.Depth<0].unique().shape\n",
    "    \n",
    "    plt.hist(trackAll.Distance[trackAll.Distance<10],bins=150); plt.show()\n",
    "    \n",
    "    plt.hist(trackAll.Salinity[trackAll.Salinity>0],bins=150); plt.show()\n",
    "\n",
    "plt.hist(trackAll['Sea Temperature'],bins=150); plt.show()\n",
    "trackAll.head()"
   ]
  },
  {
   "cell_type": "code",
   "execution_count": null,
   "metadata": {
    "collapsed": false,
    "deletable": true,
    "editable": true
   },
   "outputs": [],
   "source": []
  },
  {
   "cell_type": "code",
   "execution_count": 10,
   "metadata": {
    "collapsed": false,
    "deletable": true,
    "editable": true
   },
   "outputs": [
    {
     "name": "stderr",
     "output_type": "stream",
     "text": [
      "/home/boba/anaconda2/envs/tensorflow-gpu/lib/python2.7/site-packages/ipykernel/__main__.py:6: SettingWithCopyWarning: \n",
      "A value is trying to be set on a copy of a slice from a DataFrame\n",
      "\n",
      "See the caveats in the documentation: http://pandas.pydata.org/pandas-docs/stable/indexing.html#indexing-view-versus-copy\n"
     ]
    },
    {
     "data": {
      "text/html": [
       "<div>\n",
       "<table border=\"1\" class=\"dataframe\">\n",
       "  <thead>\n",
       "    <tr style=\"text-align: right;\">\n",
       "      <th></th>\n",
       "      <th>typing</th>\n",
       "      <th>y</th>\n",
       "    </tr>\n",
       "    <tr>\n",
       "      <th>trackfile</th>\n",
       "      <th></th>\n",
       "      <th></th>\n",
       "    </tr>\n",
       "  </thead>\n",
       "  <tbody>\n",
       "    <tr>\n",
       "      <th>100047</th>\n",
       "      <td>trawler</td>\n",
       "      <td>0</td>\n",
       "    </tr>\n",
       "    <tr>\n",
       "      <th>100070</th>\n",
       "      <td>longliner</td>\n",
       "      <td>1</td>\n",
       "    </tr>\n",
       "    <tr>\n",
       "      <th>100080</th>\n",
       "      <td>seiner</td>\n",
       "      <td>2</td>\n",
       "    </tr>\n",
       "    <tr>\n",
       "      <th>100093</th>\n",
       "      <td>other</td>\n",
       "      <td>3</td>\n",
       "    </tr>\n",
       "    <tr>\n",
       "      <th>100144</th>\n",
       "      <td>trawler</td>\n",
       "      <td>0</td>\n",
       "    </tr>\n",
       "  </tbody>\n",
       "</table>\n",
       "</div>"
      ],
      "text/plain": [
       "              typing  y\n",
       "trackfile              \n",
       "100047       trawler  0\n",
       "100070     longliner  1\n",
       "100080        seiner  2\n",
       "100093         other  3\n",
       "100144       trawler  0"
      ]
     },
     "execution_count": 10,
     "metadata": {},
     "output_type": "execute_result"
    }
   ],
   "source": [
    "##train_list.head()\n",
    "trainIndex=train_list.copy()\n",
    "##trainIndex.head()\n",
    "trainIndex['y'] = -1\n",
    "for ii in range(len(trainIndex)) : \n",
    "    trainIndex.y[ii] = y_class.index(trainIndex.typing[ii])\n",
    "    \n",
    "trainIndex=trainIndex.set_index('trackfile')\n",
    "trainIndex.head()"
   ]
  },
  {
   "cell_type": "code",
   "execution_count": 18,
   "metadata": {
    "collapsed": false,
    "deletable": true,
    "editable": true
   },
   "outputs": [
    {
     "data": {
      "image/png": "[encoded data removed]",
      "text/plain": [
       "<matplotlib.figure.Figure at 0x7f024eb38250>"
      ]
     },
     "metadata": {},
     "output_type": "display_data"
    },
    {
     "data": {
      "text/html": [
       "<div>\n",
       "<table border=\"1\" class=\"dataframe\">\n",
       "  <thead>\n",
       "    <tr style=\"text-align: right;\">\n",
       "      <th></th>\n",
       "      <th>TrackNumber</th>\n",
       "      <th>Chlorophyll Concentration</th>\n",
       "      <th>Depth</th>\n",
       "      <th>Distance</th>\n",
       "      <th>Eastward Water Velocity</th>\n",
       "      <th>Latitude</th>\n",
       "      <th>Longitude</th>\n",
       "      <th>Northward Water Velocity</th>\n",
       "      <th>Oceanic Depth</th>\n",
       "      <th>SOG</th>\n",
       "      <th>...</th>\n",
       "      <th>Sea Temperature</th>\n",
       "      <th>Speed</th>\n",
       "      <th>Thermocline Depth</th>\n",
       "      <th>Time</th>\n",
       "      <th>Time(seconds)</th>\n",
       "      <th>Water Surface Elevation</th>\n",
       "      <th>hTime</th>\n",
       "      <th>oceanic depth</th>\n",
       "      <th>sTime</th>\n",
       "      <th>y</th>\n",
       "    </tr>\n",
       "  </thead>\n",
       "  <tbody>\n",
       "    <tr>\n",
       "      <th>0</th>\n",
       "      <td>100047</td>\n",
       "      <td>0.3105</td>\n",
       "      <td>-4</td>\n",
       "      <td>3.186329</td>\n",
       "      <td>0.06</td>\n",
       "      <td>41.101078</td>\n",
       "      <td>1.235355</td>\n",
       "      <td>0.01</td>\n",
       "      <td>NaN</td>\n",
       "      <td>7.4</td>\n",
       "      <td>...</td>\n",
       "      <td>10.7</td>\n",
       "      <td>6.652769</td>\n",
       "      <td>111.0</td>\n",
       "      <td>0</td>\n",
       "      <td>0</td>\n",
       "      <td>-0.22</td>\n",
       "      <td>0.258611</td>\n",
       "      <td>-4.0</td>\n",
       "      <td>931.0</td>\n",
       "      <td>0</td>\n",
       "    </tr>\n",
       "    <tr>\n",
       "      <th>1</th>\n",
       "      <td>100047</td>\n",
       "      <td>0.3043</td>\n",
       "      <td>-11</td>\n",
       "      <td>5.981159</td>\n",
       "      <td>0.06</td>\n",
       "      <td>41.074507</td>\n",
       "      <td>1.221120</td>\n",
       "      <td>0.02</td>\n",
       "      <td>NaN</td>\n",
       "      <td>5.1</td>\n",
       "      <td>...</td>\n",
       "      <td>10.7</td>\n",
       "      <td>9.012747</td>\n",
       "      <td>109.5</td>\n",
       "      <td>931</td>\n",
       "      <td>931</td>\n",
       "      <td>-0.22</td>\n",
       "      <td>0.358333</td>\n",
       "      <td>-11.0</td>\n",
       "      <td>1290.0</td>\n",
       "      <td>0</td>\n",
       "    </tr>\n",
       "    <tr>\n",
       "      <th>2</th>\n",
       "      <td>100047</td>\n",
       "      <td>0.3059</td>\n",
       "      <td>-16</td>\n",
       "      <td>8.779740</td>\n",
       "      <td>0.06</td>\n",
       "      <td>41.043652</td>\n",
       "      <td>1.279553</td>\n",
       "      <td>0.04</td>\n",
       "      <td>NaN</td>\n",
       "      <td>10.2</td>\n",
       "      <td>...</td>\n",
       "      <td>10.7</td>\n",
       "      <td>10.337037</td>\n",
       "      <td>117.4</td>\n",
       "      <td>2221</td>\n",
       "      <td>2221</td>\n",
       "      <td>-0.23</td>\n",
       "      <td>0.458611</td>\n",
       "      <td>-16.0</td>\n",
       "      <td>1651.0</td>\n",
       "      <td>0</td>\n",
       "    </tr>\n",
       "    <tr>\n",
       "      <th>3</th>\n",
       "      <td>100047</td>\n",
       "      <td>0.3674</td>\n",
       "      <td>-46</td>\n",
       "      <td>0.000000</td>\n",
       "      <td>0.08</td>\n",
       "      <td>40.998603</td>\n",
       "      <td>1.365502</td>\n",
       "      <td>0.07</td>\n",
       "      <td>NaN</td>\n",
       "      <td>10.5</td>\n",
       "      <td>...</td>\n",
       "      <td>10.6</td>\n",
       "      <td>0.000000</td>\n",
       "      <td>123.8</td>\n",
       "      <td>3872</td>\n",
       "      <td>3872</td>\n",
       "      <td>-0.24</td>\n",
       "      <td>0.000278</td>\n",
       "      <td>-46.0</td>\n",
       "      <td>1.0</td>\n",
       "      <td>0</td>\n",
       "    </tr>\n",
       "    <tr>\n",
       "      <th>4</th>\n",
       "      <td>100047</td>\n",
       "      <td>0.3674</td>\n",
       "      <td>-46</td>\n",
       "      <td>0.000095</td>\n",
       "      <td>0.08</td>\n",
       "      <td>40.998603</td>\n",
       "      <td>1.365502</td>\n",
       "      <td>0.07</td>\n",
       "      <td>NaN</td>\n",
       "      <td>10.5</td>\n",
       "      <td>...</td>\n",
       "      <td>10.6</td>\n",
       "      <td>0.046135</td>\n",
       "      <td>123.8</td>\n",
       "      <td>3873</td>\n",
       "      <td>3873</td>\n",
       "      <td>-0.24</td>\n",
       "      <td>0.001111</td>\n",
       "      <td>-46.0</td>\n",
       "      <td>4.0</td>\n",
       "      <td>0</td>\n",
       "    </tr>\n",
       "  </tbody>\n",
       "</table>\n",
       "<p>5 rows × 21 columns</p>\n",
       "</div>"
      ],
      "text/plain": [
       "   TrackNumber  Chlorophyll Concentration  Depth  Distance  \\\n",
       "0       100047                     0.3105     -4  3.186329   \n",
       "1       100047                     0.3043    -11  5.981159   \n",
       "2       100047                     0.3059    -16  8.779740   \n",
       "3       100047                     0.3674    -46  0.000000   \n",
       "4       100047                     0.3674    -46  0.000095   \n",
       "\n",
       "   Eastward Water Velocity   Latitude  Longitude  Northward Water Velocity  \\\n",
       "0                     0.06  41.101078   1.235355                      0.01   \n",
       "1                     0.06  41.074507   1.221120                      0.02   \n",
       "2                     0.06  41.043652   1.279553                      0.04   \n",
       "3                     0.08  40.998603   1.365502                      0.07   \n",
       "4                     0.08  40.998603   1.365502                      0.07   \n",
       "\n",
       "   Oceanic Depth   SOG ...  Sea Temperature      Speed  Thermocline Depth  \\\n",
       "0            NaN   7.4 ...             10.7   6.652769              111.0   \n",
       "1            NaN   5.1 ...             10.7   9.012747              109.5   \n",
       "2            NaN  10.2 ...             10.7  10.337037              117.4   \n",
       "3            NaN  10.5 ...             10.6   0.000000              123.8   \n",
       "4            NaN  10.5 ...             10.6   0.046135              123.8   \n",
       "\n",
       "   Time  Time(seconds)  Water Surface Elevation     hTime  oceanic depth  \\\n",
       "0     0              0                    -0.22  0.258611           -4.0   \n",
       "1   931            931                    -0.22  0.358333          -11.0   \n",
       "2  2221           2221                    -0.23  0.458611          -16.0   \n",
       "3  3872           3872                    -0.24  0.000278          -46.0   \n",
       "4  3873           3873                    -0.24  0.001111          -46.0   \n",
       "\n",
       "    sTime  y  \n",
       "0   931.0  0  \n",
       "1  1290.0  0  \n",
       "2  1651.0  0  \n",
       "3     1.0  0  \n",
       "4     4.0  0  \n",
       "\n",
       "[5 rows x 21 columns]"
      ]
     },
     "execution_count": 18,
     "metadata": {},
     "output_type": "execute_result"
    }
   ],
   "source": [
    "train = trackAll.set_index('TrackNumber')\n",
    "train.head()\n",
    "train['y'] = trainIndex.y\n",
    "train = train.reset_index()\n",
    "plt.hist(train.y); plt.show()\n",
    "train.head()"
   ]
  },
  {
   "cell_type": "code",
   "execution_count": null,
   "metadata": {
    "collapsed": false,
    "deletable": true,
    "editable": true
   },
   "outputs": [],
   "source": []
  },
  {
   "cell_type": "code",
   "execution_count": 12,
   "metadata": {
    "collapsed": false
   },
   "outputs": [
    {
     "name": "stderr",
     "output_type": "stream",
     "text": [
      "/home/boba/anaconda2/envs/tensorflow-gpu/lib/python2.7/site-packages/sklearn/cross_validation.py:44: DeprecationWarning: This module was deprecated in version 0.18 in favor of the model_selection module into which all the refactored classes and functions are moved. Also note that the interface of the new CV iterators are different from that of this module. This module will be removed in 0.20.\n",
      "  \"This module will be removed in 0.20.\", DeprecationWarning)\n"
     ]
    }
   ],
   "source": [
    "import xgboost as xgb"
   ]
  },
  {
   "cell_type": "code",
   "execution_count": 60,
   "metadata": {
    "collapsed": false
   },
   "outputs": [
    {
     "data": {
      "text/plain": [
       "(1209,)"
      ]
     },
     "execution_count": 60,
     "metadata": {},
     "output_type": "execute_result"
    }
   ],
   "source": [
    "train_y.shape"
   ]
  },
  {
   "cell_type": "code",
   "execution_count": 107,
   "metadata": {
    "collapsed": false
   },
   "outputs": [],
   "source": [
    "train_x = train.drop('y',axis=1)[:1000000]\n",
    "train_x = train_x.drop('TrackNumber',axis=1)\n",
    "train_y = train.y.values[:1000000]\n",
    "\n",
    "mtrain = xgb.DMatrix(train_x,label=train_y)"
   ]
  },
  {
   "cell_type": "code",
   "execution_count": 108,
   "metadata": {
    "collapsed": false
   },
   "outputs": [
    {
     "data": {
      "text/plain": [
       "((1000000,),\n",
       " (1000000, 19),\n",
       " Index([u'Chlorophyll Concentration', u'Depth', u'Distance',\n",
       "        u'Eastward Water Velocity', u'Latitude', u'Longitude',\n",
       "        u'Northward Water Velocity', u'Oceanic Depth', u'SOG', u'Salinity',\n",
       "        u'Sea Temperature', u'Speed', u'Thermocline Depth', u'Time',\n",
       "        u'Time(seconds)', u'Water Surface Elevation', u'hTime',\n",
       "        u'oceanic depth', u'sTime'],\n",
       "       dtype='object'),\n",
       " 4)"
      ]
     },
     "execution_count": 108,
     "metadata": {},
     "output_type": "execute_result"
    }
   ],
   "source": [
    "train_y.shape, train_x.shape, train_x.columns, train_y.max()"
   ]
  },
  {
   "cell_type": "code",
   "execution_count": 71,
   "metadata": {
    "collapsed": false
   },
   "outputs": [],
   "source": [
    "import sklearn as sk\n",
    "from sklearn.model_selection import cross_val_score"
   ]
  },
  {
   "cell_type": "code",
   "execution_count": 109,
   "metadata": {
    "collapsed": false
   },
   "outputs": [
    {
     "data": {
      "text/plain": [
       "array([ 0.74773878,  0.74648627,  0.789445  ,  0.79450295,  0.41711417])"
      ]
     },
     "execution_count": 109,
     "metadata": {},
     "output_type": "execute_result"
    }
   ],
   "source": [
    "cross_val_score(estimator=xgb.XGBClassifier(), X=train_x, y=train_y, cv=5, scoring='accuracy')"
   ]
  },
  {
   "cell_type": "code",
   "execution_count": null,
   "metadata": {
    "collapsed": true
   },
   "outputs": [],
   "source": []
  },
  {
   "cell_type": "code",
   "execution_count": 98,
   "metadata": {
    "collapsed": false
   },
   "outputs": [
    {
     "ename": "TypeError",
     "evalue": "cv() got an unexpected keyword argument 'verbose'",
     "output_type": "error",
     "traceback": [
      "\u001b[0;31m---------------------------------------------------------------------------\u001b[0m",
      "\u001b[0;31mTypeError\u001b[0m                                 Traceback (most recent call last)",
      "\u001b[0;32m<ipython-input-98-689ea14635e5>\u001b[0m in \u001b[0;36m<module>\u001b[0;34m()\u001b[0m\n\u001b[1;32m      4\u001b[0m \u001b[0;31m##parms = {'reg':'linear','metrics':'auc'}\u001b[0m\u001b[0;34m\u001b[0m\u001b[0;34m\u001b[0m\u001b[0m\n\u001b[1;32m      5\u001b[0m \u001b[0;34m\u001b[0m\u001b[0m\n\u001b[0;32m----> 6\u001b[0;31m \u001b[0mhist\u001b[0m \u001b[0;34m=\u001b[0m \u001b[0mxgb\u001b[0m\u001b[0;34m.\u001b[0m\u001b[0mcv\u001b[0m\u001b[0;34m(\u001b[0m\u001b[0mparms\u001b[0m\u001b[0;34m,\u001b[0m\u001b[0mmtrain\u001b[0m\u001b[0;34m,\u001b[0m\u001b[0mnum_boost_round\u001b[0m\u001b[0;34m=\u001b[0m\u001b[0;36m30\u001b[0m\u001b[0;34m,\u001b[0m\u001b[0mnfold\u001b[0m\u001b[0;34m=\u001b[0m\u001b[0;36m5\u001b[0m\u001b[0;34m,\u001b[0m\u001b[0mearly_stopping_rounds\u001b[0m\u001b[0;34m=\u001b[0m\u001b[0;36m5\u001b[0m\u001b[0;34m,\u001b[0m\u001b[0mverbose\u001b[0m\u001b[0;34m=\u001b[0m\u001b[0;36m1\u001b[0m\u001b[0;34m)\u001b[0m \u001b[0;31m#,metrics='auc')\u001b[0m\u001b[0;34m\u001b[0m\u001b[0m\n\u001b[0m\u001b[1;32m      7\u001b[0m \u001b[0;31m#hist = xgb.train(parms,mtrain,num_boost_round=30,early_stopping_rounds=5)\u001b[0m\u001b[0;34m\u001b[0m\u001b[0;34m\u001b[0m\u001b[0m\n",
      "\u001b[0;31mTypeError\u001b[0m: cv() got an unexpected keyword argument 'verbose'"
     ]
    }
   ],
   "source": [
    "parms = {'reg':'logistic'}\n",
    "parms = {'multi':'softmax','num_class':5,'metrics':'mlogloss'}\n",
    "##parms = {'reg':'logistic'}\n",
    "##parms = {'reg':'linear','metrics':'auc'}\n",
    "\n",
    "hist = xgb.cv(parms,mtrain,num_boost_round=30,nfold=5,early_stopping_rounds=5,verbose=1) #,metrics='auc')\n",
    "#hist = xgb.train(parms,mtrain,num_boost_round=30,early_stopping_rounds=5)"
   ]
  },
  {
   "cell_type": "code",
   "execution_count": 96,
   "metadata": {
    "collapsed": false
   },
   "outputs": [
    {
     "data": {
      "text/html": [
       "<div>\n",
       "<table border=\"1\" class=\"dataframe\">\n",
       "  <thead>\n",
       "    <tr style=\"text-align: right;\">\n",
       "      <th></th>\n",
       "      <th>test-merror-mean</th>\n",
       "      <th>test-merror-std</th>\n",
       "      <th>train-merror-mean</th>\n",
       "      <th>train-merror-std</th>\n",
       "    </tr>\n",
       "  </thead>\n",
       "  <tbody>\n",
       "    <tr>\n",
       "      <th>0</th>\n",
       "      <td>0.0</td>\n",
       "      <td>0.0</td>\n",
       "      <td>0.0</td>\n",
       "      <td>0.0</td>\n",
       "    </tr>\n",
       "  </tbody>\n",
       "</table>\n",
       "</div>"
      ],
      "text/plain": [
       "   test-merror-mean  test-merror-std  train-merror-mean  train-merror-std\n",
       "0               0.0              0.0                0.0               0.0"
      ]
     },
     "execution_count": 96,
     "metadata": {},
     "output_type": "execute_result"
    }
   ],
   "source": [
    "hist"
   ]
  },
  {
   "cell_type": "code",
   "execution_count": null,
   "metadata": {
    "collapsed": true
   },
   "outputs": [],
   "source": []
  },
  {
   "cell_type": "code",
   "execution_count": null,
   "metadata": {
    "collapsed": true
   },
   "outputs": [],
   "source": []
  },
  {
   "cell_type": "code",
   "execution_count": null,
   "metadata": {
    "collapsed": true
   },
   "outputs": [],
   "source": []
  },
  {
   "cell_type": "code",
   "execution_count": 295,
   "metadata": {
    "collapsed": false,
    "deletable": true,
    "editable": true
   },
   "outputs": [],
   "source": [
    "import keras\n",
    "from keras.models import Sequential, Model\n",
    "from keras.layers import Dense, Input, Dropout\n",
    "from keras.layers import LSTM\n",
    "from keras.layers.convolutional import Conv1D\n",
    "from keras.layers.convolutional import MaxPooling1D\n",
    "from keras.layers.embeddings import Embedding\n",
    "import keras.backend as K"
   ]
  },
  {
   "cell_type": "code",
   "execution_count": null,
   "metadata": {
    "collapsed": false,
    "deletable": true,
    "editable": true
   },
   "outputs": [],
   "source": []
  },
  {
   "cell_type": "code",
   "execution_count": null,
   "metadata": {
    "collapsed": false,
    "deletable": true,
    "editable": true
   },
   "outputs": [],
   "source": []
  },
  {
   "cell_type": "code",
   "execution_count": 296,
   "metadata": {
    "collapsed": false,
    "deletable": true,
    "editable": true
   },
   "outputs": [
    {
     "data": {
      "text/plain": [
       "((1209, 512), (1209, 5))"
      ]
     },
     "execution_count": 296,
     "metadata": {},
     "output_type": "execute_result"
    }
   ],
   "source": [
    "x_train.shape, y_train.shape"
   ]
  },
  {
   "cell_type": "code",
   "execution_count": 299,
   "metadata": {
    "collapsed": false,
    "deletable": true,
    "editable": true
   },
   "outputs": [
    {
     "name": "stdout",
     "output_type": "stream",
     "text": [
      "____________________________________________________________________________________________________\n",
      "Layer (type)                     Output Shape          Param #     Connected to                     \n",
      "====================================================================================================\n",
      "input_1 (InputLayer)             (None, 512)           0                                            \n",
      "____________________________________________________________________________________________________\n",
      "input_2 (InputLayer)             (None, 512)           0                                            \n",
      "____________________________________________________________________________________________________\n",
      "embedding_1 (Embedding)          (None, 512, 128)      65536       input_1[0][0]                    \n",
      "____________________________________________________________________________________________________\n",
      "embedding_2 (Embedding)          (None, 512, 128)      65536       input_2[0][0]                    \n",
      "____________________________________________________________________________________________________\n",
      "input_3 (InputLayer)             (None, 512)           0                                            \n",
      "____________________________________________________________________________________________________\n",
      "lstm_1 (LSTM)                    (None, 128)           131584      embedding_1[0][0]                \n",
      "____________________________________________________________________________________________________\n",
      "lstm_2 (LSTM)                    (None, 128)           131584      embedding_2[0][0]                \n",
      "____________________________________________________________________________________________________\n",
      "embedding_3 (Embedding)          (None, 512, 128)      65536       input_3[0][0]                    \n",
      "____________________________________________________________________________________________________\n",
      "concatenate_1 (Concatenate)      (None, 256)           0           lstm_1[0][0]                     \n",
      "                                                                   lstm_2[0][0]                     \n",
      "____________________________________________________________________________________________________\n",
      "lstm_3 (LSTM)                    (None, 128)           131584      embedding_3[0][0]                \n",
      "____________________________________________________________________________________________________\n",
      "concatenate_2 (Concatenate)      (None, 384)           0           concatenate_1[0][0]              \n",
      "                                                                   lstm_3[0][0]                     \n",
      "____________________________________________________________________________________________________\n",
      "dense_1 (Dense)                  (None, 256)           98560       concatenate_2[0][0]              \n",
      "____________________________________________________________________________________________________\n",
      "dropout_1 (Dropout)              (None, 256)           0           dense_1[0][0]                    \n",
      "____________________________________________________________________________________________________\n",
      "dense_2 (Dense)                  (None, 256)           65792       dropout_1[0][0]                  \n",
      "____________________________________________________________________________________________________\n",
      "dropout_2 (Dropout)              (None, 256)           0           dense_2[0][0]                    \n",
      "____________________________________________________________________________________________________\n",
      "dense_3 (Dense)                  (None, 5)             1285        dropout_2[0][0]                  \n",
      "====================================================================================================\n",
      "Total params: 756,997\n",
      "Trainable params: 756,997\n",
      "Non-trainable params: 0\n",
      "____________________________________________________________________________________________________\n"
     ]
    }
   ],
   "source": [
    "batch_size   = 32\n",
    "#model = Sequential()\n",
    "#model.add(Embedding(max_features, 256))\n",
    "#model.add(Input(shape=[max_feature], dtype='float32'))\n",
    "#model.add(LSTM(256, dropout=0.2, recurrent_dropout=0.2,return_sequences=True,input_shape=[None,6]))\n",
    "#model.add(Dense(50, activation='relu'))\n",
    "#model.add(Dense(5, activation='sigmoid'))\n",
    "\n",
    "K.clear_session()\n",
    "\n",
    "i0 = Input(shape=[max_features], dtype='float32')\n",
    "x0 = Embedding(max_features, 128)(i0)\n",
    "x0 = LSTM(128)(x0)\n",
    "\n",
    "i1 = Input(shape=[max_features], dtype='float32')\n",
    "x1 = Embedding(max_features, 128)(i1)\n",
    "x1 = LSTM(128)(x1)\n",
    "\n",
    "i2 = Input(shape=[max_features], dtype='float32')\n",
    "x2 = Embedding(max_features, 128)(i2)\n",
    "x2 = LSTM(128)(x2)\n",
    "\n",
    "xx = keras.layers.concatenate([x0, x1])\n",
    "xx = keras.layers.concatenate([xx, x2])\n",
    "\n",
    "xx = Dense(256, activation='relu')(xx)\n",
    "xx = Dropout(0.25)(xx)\n",
    "xx = Dense(256, activation='relu')(xx)\n",
    "xx = Dropout(0.25)(xx)\n",
    "#o = Dense(5, activation='sigmoid')(xx)\n",
    "o = Dense(5, activation='softmax')(xx)\n",
    "\n",
    "model = Model(inputs=[i0,i1,i2], outputs=o)\n",
    "\n",
    "model.summary()\n",
    "\n",
    "# try using different optimizers and different optimizer configs\n",
    "model.compile(loss='binary_crossentropy',\n",
    "              optimizer='adam',\n",
    "              metrics=['accuracy'])"
   ]
  },
  {
   "cell_type": "code",
   "execution_count": 301,
   "metadata": {
    "collapsed": false,
    "deletable": true,
    "editable": true
   },
   "outputs": [
    {
     "name": "stdout",
     "output_type": "stream",
     "text": [
      "Train...\n",
      "Train on 1009 samples, validate on 200 samples\n",
      "Epoch 21/60\n",
      "47s - loss: 0.2221 - acc: 0.9110 - val_loss: 0.5289 - val_acc: 0.8040\n",
      "Epoch 22/60\n",
      "47s - loss: 0.2155 - acc: 0.9146 - val_loss: 0.5753 - val_acc: 0.8100\n",
      "Epoch 23/60\n",
      "47s - loss: 0.2159 - acc: 0.9164 - val_loss: 0.5175 - val_acc: 0.8070\n",
      "Epoch 24/60\n",
      "47s - loss: 0.2103 - acc: 0.9173 - val_loss: 0.5423 - val_acc: 0.8090\n",
      "Epoch 25/60\n",
      "46s - loss: 0.2077 - acc: 0.9140 - val_loss: 0.6088 - val_acc: 0.7980\n",
      "Epoch 26/60\n",
      "47s - loss: 0.3292 - acc: 0.8852 - val_loss: 0.5284 - val_acc: 0.7990\n",
      "Epoch 27/60\n",
      "47s - loss: 0.2582 - acc: 0.8920 - val_loss: 0.5112 - val_acc: 0.8050\n",
      "Epoch 28/60\n",
      "47s - loss: 0.2547 - acc: 0.8959 - val_loss: 0.5079 - val_acc: 0.8020\n",
      "Epoch 29/60\n",
      "47s - loss: 0.2335 - acc: 0.9074 - val_loss: 0.5398 - val_acc: 0.8040\n",
      "Epoch 30/60\n",
      "46s - loss: 0.2319 - acc: 0.9033 - val_loss: 0.5436 - val_acc: 0.7950\n",
      "Epoch 31/60\n",
      "47s - loss: 0.2305 - acc: 0.9029 - val_loss: 0.5255 - val_acc: 0.7950\n",
      "Epoch 32/60\n",
      "47s - loss: 0.2244 - acc: 0.9090 - val_loss: 0.5424 - val_acc: 0.8080\n",
      "Epoch 33/60\n",
      "47s - loss: 0.1970 - acc: 0.9229 - val_loss: 0.5755 - val_acc: 0.8020\n",
      "Epoch 34/60\n",
      "47s - loss: 0.2043 - acc: 0.9167 - val_loss: 0.5438 - val_acc: 0.8020\n",
      "Epoch 35/60\n",
      "47s - loss: 0.1827 - acc: 0.9251 - val_loss: 0.5533 - val_acc: 0.8160\n",
      "Epoch 36/60\n",
      "47s - loss: 0.1702 - acc: 0.9326 - val_loss: 0.6195 - val_acc: 0.8010\n",
      "Epoch 37/60\n",
      "47s - loss: 0.1625 - acc: 0.9344 - val_loss: 0.6523 - val_acc: 0.8090\n",
      "Epoch 38/60\n",
      "47s - loss: 0.1354 - acc: 0.9477 - val_loss: 0.7501 - val_acc: 0.7950\n",
      "Epoch 39/60\n",
      "47s - loss: 0.1360 - acc: 0.9455 - val_loss: 0.7069 - val_acc: 0.8080\n",
      "Epoch 40/60\n",
      "46s - loss: 0.1327 - acc: 0.9453 - val_loss: 0.7566 - val_acc: 0.7970\n",
      "Epoch 41/60\n",
      "47s - loss: 0.1300 - acc: 0.9471 - val_loss: 0.7252 - val_acc: 0.7970\n",
      "Epoch 42/60\n",
      "47s - loss: 0.1294 - acc: 0.9477 - val_loss: 0.7719 - val_acc: 0.7840\n",
      "Epoch 43/60\n",
      "47s - loss: 0.1452 - acc: 0.9405 - val_loss: 0.7125 - val_acc: 0.7960\n",
      "Epoch 44/60\n",
      "47s - loss: 0.1314 - acc: 0.9475 - val_loss: 0.7778 - val_acc: 0.7940\n",
      "Epoch 45/60\n",
      "47s - loss: 0.1225 - acc: 0.9562 - val_loss: 0.8022 - val_acc: 0.7940\n",
      "Epoch 46/60\n",
      "47s - loss: 0.1382 - acc: 0.9419 - val_loss: 0.7434 - val_acc: 0.7860\n",
      "Epoch 47/60\n",
      "47s - loss: 0.1266 - acc: 0.9481 - val_loss: 0.7875 - val_acc: 0.8080\n",
      "Epoch 48/60\n",
      "47s - loss: 0.1602 - acc: 0.9352 - val_loss: 0.7007 - val_acc: 0.7980\n",
      "Epoch 49/60\n",
      "47s - loss: 0.1575 - acc: 0.9350 - val_loss: 0.7322 - val_acc: 0.7940\n",
      "Epoch 50/60\n",
      "47s - loss: 0.1443 - acc: 0.9409 - val_loss: 0.7091 - val_acc: 0.7950\n",
      "Epoch 51/60\n",
      "47s - loss: 0.1433 - acc: 0.9437 - val_loss: 0.7102 - val_acc: 0.8080\n",
      "Epoch 52/60\n",
      "47s - loss: 0.1444 - acc: 0.9443 - val_loss: 0.7034 - val_acc: 0.8020\n",
      "Epoch 53/60\n",
      "47s - loss: 0.1323 - acc: 0.9459 - val_loss: 0.7536 - val_acc: 0.7980\n",
      "Epoch 54/60\n"
     ]
    },
    {
     "ename": "KeyboardInterrupt",
     "evalue": "",
     "output_type": "error",
     "traceback": [
      "\u001b[0;31m---------------------------------------------------------------------------\u001b[0m",
      "\u001b[0;31mKeyboardInterrupt\u001b[0m                         Traceback (most recent call last)",
      "\u001b[0;32m<ipython-input-301-3938b136204c>\u001b[0m in \u001b[0;36m<module>\u001b[0;34m()\u001b[0m\n\u001b[1;32m      6\u001b[0m                   \u001b[0minitial_epoch\u001b[0m\u001b[0;34m=\u001b[0m\u001b[0;36m20\u001b[0m\u001b[0;34m,\u001b[0m\u001b[0;34m\u001b[0m\u001b[0m\n\u001b[1;32m      7\u001b[0m                   \u001b[0mvalidation_data\u001b[0m\u001b[0;34m=\u001b[0m\u001b[0;34m(\u001b[0m\u001b[0;34m[\u001b[0m\u001b[0mx_train\u001b[0m\u001b[0;34m[\u001b[0m\u001b[0;34m-\u001b[0m\u001b[0;36m200\u001b[0m\u001b[0;34m:\u001b[0m\u001b[0;34m]\u001b[0m\u001b[0;34m,\u001b[0m\u001b[0mz_train\u001b[0m\u001b[0;34m[\u001b[0m\u001b[0;34m-\u001b[0m\u001b[0;36m200\u001b[0m\u001b[0;34m:\u001b[0m\u001b[0;34m]\u001b[0m\u001b[0;34m,\u001b[0m\u001b[0ma_train\u001b[0m\u001b[0;34m[\u001b[0m\u001b[0;34m-\u001b[0m\u001b[0;36m200\u001b[0m\u001b[0;34m:\u001b[0m\u001b[0;34m]\u001b[0m\u001b[0;34m]\u001b[0m\u001b[0;34m,\u001b[0m \u001b[0my_train\u001b[0m\u001b[0;34m[\u001b[0m\u001b[0;34m-\u001b[0m\u001b[0;36m200\u001b[0m\u001b[0;34m:\u001b[0m\u001b[0;34m]\u001b[0m\u001b[0;34m)\u001b[0m\u001b[0;34m,\u001b[0m\u001b[0;34m\u001b[0m\u001b[0m\n\u001b[0;32m----> 8\u001b[0;31m                   verbose=2)\n\u001b[0m",
      "\u001b[0;32m/home/boba/anaconda2/envs/tensorflow-gpu/lib/python2.7/site-packages/keras/engine/training.pyc\u001b[0m in \u001b[0;36mfit\u001b[0;34m(self, x, y, batch_size, epochs, verbose, callbacks, validation_split, validation_data, shuffle, class_weight, sample_weight, initial_epoch, **kwargs)\u001b[0m\n\u001b[1;32m   1428\u001b[0m                               \u001b[0mval_f\u001b[0m\u001b[0;34m=\u001b[0m\u001b[0mval_f\u001b[0m\u001b[0;34m,\u001b[0m \u001b[0mval_ins\u001b[0m\u001b[0;34m=\u001b[0m\u001b[0mval_ins\u001b[0m\u001b[0;34m,\u001b[0m \u001b[0mshuffle\u001b[0m\u001b[0;34m=\u001b[0m\u001b[0mshuffle\u001b[0m\u001b[0;34m,\u001b[0m\u001b[0;34m\u001b[0m\u001b[0m\n\u001b[1;32m   1429\u001b[0m                               \u001b[0mcallback_metrics\u001b[0m\u001b[0;34m=\u001b[0m\u001b[0mcallback_metrics\u001b[0m\u001b[0;34m,\u001b[0m\u001b[0;34m\u001b[0m\u001b[0m\n\u001b[0;32m-> 1430\u001b[0;31m                               initial_epoch=initial_epoch)\n\u001b[0m\u001b[1;32m   1431\u001b[0m \u001b[0;34m\u001b[0m\u001b[0m\n\u001b[1;32m   1432\u001b[0m     \u001b[0;32mdef\u001b[0m \u001b[0mevaluate\u001b[0m\u001b[0;34m(\u001b[0m\u001b[0mself\u001b[0m\u001b[0;34m,\u001b[0m \u001b[0mx\u001b[0m\u001b[0;34m,\u001b[0m \u001b[0my\u001b[0m\u001b[0;34m,\u001b[0m \u001b[0mbatch_size\u001b[0m\u001b[0;34m=\u001b[0m\u001b[0;36m32\u001b[0m\u001b[0;34m,\u001b[0m \u001b[0mverbose\u001b[0m\u001b[0;34m=\u001b[0m\u001b[0;36m1\u001b[0m\u001b[0;34m,\u001b[0m \u001b[0msample_weight\u001b[0m\u001b[0;34m=\u001b[0m\u001b[0mNone\u001b[0m\u001b[0;34m)\u001b[0m\u001b[0;34m:\u001b[0m\u001b[0;34m\u001b[0m\u001b[0m\n",
      "\u001b[0;32m/home/boba/anaconda2/envs/tensorflow-gpu/lib/python2.7/site-packages/keras/engine/training.pyc\u001b[0m in \u001b[0;36m_fit_loop\u001b[0;34m(self, f, ins, out_labels, batch_size, epochs, verbose, callbacks, val_f, val_ins, shuffle, callback_metrics, initial_epoch)\u001b[0m\n\u001b[1;32m   1077\u001b[0m                 \u001b[0mbatch_logs\u001b[0m\u001b[0;34m[\u001b[0m\u001b[0;34m'size'\u001b[0m\u001b[0;34m]\u001b[0m \u001b[0;34m=\u001b[0m \u001b[0mlen\u001b[0m\u001b[0;34m(\u001b[0m\u001b[0mbatch_ids\u001b[0m\u001b[0;34m)\u001b[0m\u001b[0;34m\u001b[0m\u001b[0m\n\u001b[1;32m   1078\u001b[0m                 \u001b[0mcallbacks\u001b[0m\u001b[0;34m.\u001b[0m\u001b[0mon_batch_begin\u001b[0m\u001b[0;34m(\u001b[0m\u001b[0mbatch_index\u001b[0m\u001b[0;34m,\u001b[0m \u001b[0mbatch_logs\u001b[0m\u001b[0;34m)\u001b[0m\u001b[0;34m\u001b[0m\u001b[0m\n\u001b[0;32m-> 1079\u001b[0;31m                 \u001b[0mouts\u001b[0m \u001b[0;34m=\u001b[0m \u001b[0mf\u001b[0m\u001b[0;34m(\u001b[0m\u001b[0mins_batch\u001b[0m\u001b[0;34m)\u001b[0m\u001b[0;34m\u001b[0m\u001b[0m\n\u001b[0m\u001b[1;32m   1080\u001b[0m                 \u001b[0;32mif\u001b[0m \u001b[0;32mnot\u001b[0m \u001b[0misinstance\u001b[0m\u001b[0;34m(\u001b[0m\u001b[0mouts\u001b[0m\u001b[0;34m,\u001b[0m \u001b[0mlist\u001b[0m\u001b[0;34m)\u001b[0m\u001b[0;34m:\u001b[0m\u001b[0;34m\u001b[0m\u001b[0m\n\u001b[1;32m   1081\u001b[0m                     \u001b[0mouts\u001b[0m \u001b[0;34m=\u001b[0m \u001b[0;34m[\u001b[0m\u001b[0mouts\u001b[0m\u001b[0;34m]\u001b[0m\u001b[0;34m\u001b[0m\u001b[0m\n",
      "\u001b[0;32m/home/boba/anaconda2/envs/tensorflow-gpu/lib/python2.7/site-packages/keras/backend/tensorflow_backend.pyc\u001b[0m in \u001b[0;36m__call__\u001b[0;34m(self, inputs)\u001b[0m\n\u001b[1;32m   2266\u001b[0m         updated = session.run(self.outputs + [self.updates_op],\n\u001b[1;32m   2267\u001b[0m                               \u001b[0mfeed_dict\u001b[0m\u001b[0;34m=\u001b[0m\u001b[0mfeed_dict\u001b[0m\u001b[0;34m,\u001b[0m\u001b[0;34m\u001b[0m\u001b[0m\n\u001b[0;32m-> 2268\u001b[0;31m                               **self.session_kwargs)\n\u001b[0m\u001b[1;32m   2269\u001b[0m         \u001b[0;32mreturn\u001b[0m \u001b[0mupdated\u001b[0m\u001b[0;34m[\u001b[0m\u001b[0;34m:\u001b[0m\u001b[0mlen\u001b[0m\u001b[0;34m(\u001b[0m\u001b[0mself\u001b[0m\u001b[0;34m.\u001b[0m\u001b[0moutputs\u001b[0m\u001b[0;34m)\u001b[0m\u001b[0;34m]\u001b[0m\u001b[0;34m\u001b[0m\u001b[0m\n\u001b[1;32m   2270\u001b[0m \u001b[0;34m\u001b[0m\u001b[0m\n",
      "\u001b[0;32m/home/boba/anaconda2/envs/tensorflow-gpu/lib/python2.7/site-packages/tensorflow/python/client/session.pyc\u001b[0m in \u001b[0;36mrun\u001b[0;34m(self, fetches, feed_dict, options, run_metadata)\u001b[0m\n\u001b[1;32m    787\u001b[0m     \u001b[0;32mtry\u001b[0m\u001b[0;34m:\u001b[0m\u001b[0;34m\u001b[0m\u001b[0m\n\u001b[1;32m    788\u001b[0m       result = self._run(None, fetches, feed_dict, options_ptr,\n\u001b[0;32m--> 789\u001b[0;31m                          run_metadata_ptr)\n\u001b[0m\u001b[1;32m    790\u001b[0m       \u001b[0;32mif\u001b[0m \u001b[0mrun_metadata\u001b[0m\u001b[0;34m:\u001b[0m\u001b[0;34m\u001b[0m\u001b[0m\n\u001b[1;32m    791\u001b[0m         \u001b[0mproto_data\u001b[0m \u001b[0;34m=\u001b[0m \u001b[0mtf_session\u001b[0m\u001b[0;34m.\u001b[0m\u001b[0mTF_GetBuffer\u001b[0m\u001b[0;34m(\u001b[0m\u001b[0mrun_metadata_ptr\u001b[0m\u001b[0;34m)\u001b[0m\u001b[0;34m\u001b[0m\u001b[0m\n",
      "\u001b[0;32m/home/boba/anaconda2/envs/tensorflow-gpu/lib/python2.7/site-packages/tensorflow/python/client/session.pyc\u001b[0m in \u001b[0;36m_run\u001b[0;34m(self, handle, fetches, feed_dict, options, run_metadata)\u001b[0m\n\u001b[1;32m    995\u001b[0m     \u001b[0;32mif\u001b[0m \u001b[0mfinal_fetches\u001b[0m \u001b[0;32mor\u001b[0m \u001b[0mfinal_targets\u001b[0m\u001b[0;34m:\u001b[0m\u001b[0;34m\u001b[0m\u001b[0m\n\u001b[1;32m    996\u001b[0m       results = self._do_run(handle, final_targets, final_fetches,\n\u001b[0;32m--> 997\u001b[0;31m                              feed_dict_string, options, run_metadata)\n\u001b[0m\u001b[1;32m    998\u001b[0m     \u001b[0;32melse\u001b[0m\u001b[0;34m:\u001b[0m\u001b[0;34m\u001b[0m\u001b[0m\n\u001b[1;32m    999\u001b[0m       \u001b[0mresults\u001b[0m \u001b[0;34m=\u001b[0m \u001b[0;34m[\u001b[0m\u001b[0;34m]\u001b[0m\u001b[0;34m\u001b[0m\u001b[0m\n",
      "\u001b[0;32m/home/boba/anaconda2/envs/tensorflow-gpu/lib/python2.7/site-packages/tensorflow/python/client/session.pyc\u001b[0m in \u001b[0;36m_do_run\u001b[0;34m(self, handle, target_list, fetch_list, feed_dict, options, run_metadata)\u001b[0m\n\u001b[1;32m   1130\u001b[0m     \u001b[0;32mif\u001b[0m \u001b[0mhandle\u001b[0m \u001b[0;32mis\u001b[0m \u001b[0mNone\u001b[0m\u001b[0;34m:\u001b[0m\u001b[0;34m\u001b[0m\u001b[0m\n\u001b[1;32m   1131\u001b[0m       return self._do_call(_run_fn, self._session, feed_dict, fetch_list,\n\u001b[0;32m-> 1132\u001b[0;31m                            target_list, options, run_metadata)\n\u001b[0m\u001b[1;32m   1133\u001b[0m     \u001b[0;32melse\u001b[0m\u001b[0;34m:\u001b[0m\u001b[0;34m\u001b[0m\u001b[0m\n\u001b[1;32m   1134\u001b[0m       return self._do_call(_prun_fn, self._session, handle, feed_dict,\n",
      "\u001b[0;32m/home/boba/anaconda2/envs/tensorflow-gpu/lib/python2.7/site-packages/tensorflow/python/client/session.pyc\u001b[0m in \u001b[0;36m_do_call\u001b[0;34m(self, fn, *args)\u001b[0m\n\u001b[1;32m   1137\u001b[0m   \u001b[0;32mdef\u001b[0m \u001b[0m_do_call\u001b[0m\u001b[0;34m(\u001b[0m\u001b[0mself\u001b[0m\u001b[0;34m,\u001b[0m \u001b[0mfn\u001b[0m\u001b[0;34m,\u001b[0m \u001b[0;34m*\u001b[0m\u001b[0margs\u001b[0m\u001b[0;34m)\u001b[0m\u001b[0;34m:\u001b[0m\u001b[0;34m\u001b[0m\u001b[0m\n\u001b[1;32m   1138\u001b[0m     \u001b[0;32mtry\u001b[0m\u001b[0;34m:\u001b[0m\u001b[0;34m\u001b[0m\u001b[0m\n\u001b[0;32m-> 1139\u001b[0;31m       \u001b[0;32mreturn\u001b[0m \u001b[0mfn\u001b[0m\u001b[0;34m(\u001b[0m\u001b[0;34m*\u001b[0m\u001b[0margs\u001b[0m\u001b[0;34m)\u001b[0m\u001b[0;34m\u001b[0m\u001b[0m\n\u001b[0m\u001b[1;32m   1140\u001b[0m     \u001b[0;32mexcept\u001b[0m \u001b[0merrors\u001b[0m\u001b[0;34m.\u001b[0m\u001b[0mOpError\u001b[0m \u001b[0;32mas\u001b[0m \u001b[0me\u001b[0m\u001b[0;34m:\u001b[0m\u001b[0;34m\u001b[0m\u001b[0m\n\u001b[1;32m   1141\u001b[0m       \u001b[0mmessage\u001b[0m \u001b[0;34m=\u001b[0m \u001b[0mcompat\u001b[0m\u001b[0;34m.\u001b[0m\u001b[0mas_text\u001b[0m\u001b[0;34m(\u001b[0m\u001b[0me\u001b[0m\u001b[0;34m.\u001b[0m\u001b[0mmessage\u001b[0m\u001b[0;34m)\u001b[0m\u001b[0;34m\u001b[0m\u001b[0m\n",
      "\u001b[0;32m/home/boba/anaconda2/envs/tensorflow-gpu/lib/python2.7/site-packages/tensorflow/python/client/session.pyc\u001b[0m in \u001b[0;36m_run_fn\u001b[0;34m(session, feed_dict, fetch_list, target_list, options, run_metadata)\u001b[0m\n\u001b[1;32m   1119\u001b[0m         return tf_session.TF_Run(session, options,\n\u001b[1;32m   1120\u001b[0m                                  \u001b[0mfeed_dict\u001b[0m\u001b[0;34m,\u001b[0m \u001b[0mfetch_list\u001b[0m\u001b[0;34m,\u001b[0m \u001b[0mtarget_list\u001b[0m\u001b[0;34m,\u001b[0m\u001b[0;34m\u001b[0m\u001b[0m\n\u001b[0;32m-> 1121\u001b[0;31m                                  status, run_metadata)\n\u001b[0m\u001b[1;32m   1122\u001b[0m \u001b[0;34m\u001b[0m\u001b[0m\n\u001b[1;32m   1123\u001b[0m     \u001b[0;32mdef\u001b[0m \u001b[0m_prun_fn\u001b[0m\u001b[0;34m(\u001b[0m\u001b[0msession\u001b[0m\u001b[0;34m,\u001b[0m \u001b[0mhandle\u001b[0m\u001b[0;34m,\u001b[0m \u001b[0mfeed_dict\u001b[0m\u001b[0;34m,\u001b[0m \u001b[0mfetch_list\u001b[0m\u001b[0;34m)\u001b[0m\u001b[0;34m:\u001b[0m\u001b[0;34m\u001b[0m\u001b[0m\n",
      "\u001b[0;31mKeyboardInterrupt\u001b[0m: "
     ]
    }
   ],
   "source": [
    "print('Train...')\n",
    "hist = model.fit([x_train[:-200],z_train[:-200],a_train[:-200]], y_train[:-200],\n",
    "                  batch_size=batch_size,\n",
    "                  #shuffle=True,\n",
    "                  epochs=60,\n",
    "                  initial_epoch=20,\n",
    "                  validation_data=([x_train[-200:],z_train[-200:],a_train[-200:]], y_train[-200:]),\n",
    "                  verbose=2)"
   ]
  },
  {
   "cell_type": "code",
   "execution_count": 229,
   "metadata": {
    "collapsed": false,
    "deletable": true,
    "editable": true
   },
   "outputs": [
    {
     "data": {
      "text/plain": [
       "{'acc': [0.86442021253205858,\n",
       "  0.87076312604815331,\n",
       "  0.86303270796481868,\n",
       "  0.87056491632527711,\n",
       "  0.87115955848996296,\n",
       "  0.85966303486772055,\n",
       "  0.86778989697117048,\n",
       "  0.87294351251203317,\n",
       "  0.87789890811039273,\n",
       "  0.87809710802715291,\n",
       "  0.87948463214755179,\n",
       "  0.86917741223062117,\n",
       "  0.87215063723156783,\n",
       "  0.87651139308723391,\n",
       "  0.88007927141766129,\n",
       "  0.88761149519616955,\n",
       "  0.88701685025505317,\n",
       "  0.88979186429259094,\n",
       "  0.889197222068832,\n",
       "  0.89177402083063262,\n",
       "  0.89098116073192524,\n",
       "  0.89573835641352462,\n",
       "  0.89276511758949872,\n",
       "  0.89534192084084652,\n",
       "  0.89197225920390799,\n",
       "  0.89276511445863038,\n",
       "  0.90485629773116327,\n",
       "  0.90386520280355975,\n",
       "  0.90624380111694336,\n",
       "  0.90822597106455338],\n",
       " 'loss': [0.31470745530189914,\n",
       "  0.30883514308126053,\n",
       "  0.31971327084734136,\n",
       "  0.30887640278686734,\n",
       "  0.31403459890628355,\n",
       "  0.31866618875705804,\n",
       "  0.31475470790305388,\n",
       "  0.30214555861337927,\n",
       "  0.2948735255906792,\n",
       "  0.29195803970955053,\n",
       "  0.28578464144875909,\n",
       "  0.3058801103158087,\n",
       "  0.30397982146624175,\n",
       "  0.29543657552144453,\n",
       "  0.2931085857456574,\n",
       "  0.27979808762241282,\n",
       "  0.27584975541405921,\n",
       "  0.26758719282178622,\n",
       "  0.26815021501778374,\n",
       "  0.26553106423175726,\n",
       "  0.25822936144645436,\n",
       "  0.2606057765698882,\n",
       "  0.25514295762192507,\n",
       "  0.25132959443112196,\n",
       "  0.25747490174352117,\n",
       "  0.2522675136272215,\n",
       "  0.23470874861754085,\n",
       "  0.23236204451919193,\n",
       "  0.23141988447329215,\n",
       "  0.22508040136990864],\n",
       " 'val_acc': [0.83800000429153443,\n",
       "  0.84600001096725463,\n",
       "  0.84399998426437373,\n",
       "  0.84299998521804809,\n",
       "  0.85000004529952999,\n",
       "  0.8430000305175781,\n",
       "  0.83299998521804808,\n",
       "  0.84799999952316285,\n",
       "  0.84699999332427978,\n",
       "  0.8400000071525574,\n",
       "  0.8370000004768372,\n",
       "  0.83999999284744264,\n",
       "  0.86000001668930048,\n",
       "  0.84700001955032345,\n",
       "  0.85099998950958256,\n",
       "  0.84900000333786008,\n",
       "  0.8609999918937683,\n",
       "  0.85400000333786008,\n",
       "  0.84999998807907107,\n",
       "  0.84500000715255741,\n",
       "  0.83600001096725463,\n",
       "  0.84600003004074098,\n",
       "  0.84899998426437373,\n",
       "  0.84199999570846562,\n",
       "  0.84000001907348631,\n",
       "  0.84799999952316285,\n",
       "  0.83999997854232789,\n",
       "  0.83999999284744264,\n",
       "  0.85100001573562623,\n",
       "  0.85100003004074098],\n",
       " 'val_loss': [0.36089528918266295,\n",
       "  0.36327541828155518,\n",
       "  0.36381975769996644,\n",
       "  0.35253565192222597,\n",
       "  0.34333482146263122,\n",
       "  0.34784759759902956,\n",
       "  0.37244207024574277,\n",
       "  0.35216125488281252,\n",
       "  0.34856805086135867,\n",
       "  0.34967392325401309,\n",
       "  0.37139191627502444,\n",
       "  0.35798767805099485,\n",
       "  0.33440095901489258,\n",
       "  0.36153599500656131,\n",
       "  0.34909735441207884,\n",
       "  0.34719890356063843,\n",
       "  0.33652249813079832,\n",
       "  0.372581285238266,\n",
       "  0.34639351129531859,\n",
       "  0.35904292345046995,\n",
       "  0.38583056569099428,\n",
       "  0.37372272968292236,\n",
       "  0.3613102388381958,\n",
       "  0.38224382638931276,\n",
       "  0.37224849700927737,\n",
       "  0.36730829954147337,\n",
       "  0.39347055554389954,\n",
       "  0.38533660292625427,\n",
       "  0.3728615057468414,\n",
       "  0.3751652801036835]}"
      ]
     },
     "execution_count": 229,
     "metadata": {},
     "output_type": "execute_result"
    }
   ],
   "source": [
    "hist.history"
   ]
  }
 ],
 "metadata": {
  "kernelspec": {
   "display_name": "Python 2",
   "language": "python",
   "name": "python2"
  },
  "language_info": {
   "codemirror_mode": {
    "name": "ipython",
    "version": 2
   },
   "file_extension": ".py",
   "mimetype": "text/x-python",
   "name": "python",
   "nbconvert_exporter": "python",
   "pygments_lexer": "ipython2",
   "version": "2.7.13"
  }
 },
 "nbformat": 4,
 "nbformat_minor": 2
}
